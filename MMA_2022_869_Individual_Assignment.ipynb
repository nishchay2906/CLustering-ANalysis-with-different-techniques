{
 "cells": [
  {
   "cell_type": "markdown",
   "metadata": {
    "id": "HKmorPdno_n_"
   },
   "source": [
    "# MMA 869: Individual Assignment\n",
    "\n",
    "Version 1: Updated September 27, 2021\n",
    "\n",
    "- Gopala Goyal\n",
    "- 20254605\n",
    "- Section - 2\n",
    "- Not an avid reader\n",
    "- October 21, 2021"
   ]
  },
  {
   "cell_type": "markdown",
   "metadata": {
    "id": "emfFtv4aHBI1"
   },
   "source": [
    "# Assignment Instructions\n",
    "\n",
    "This assignment contains four questions. The questions are fully contained in this Google Colab Notebook. \n",
    "\n",
    "You are to make a copy of this Notebook and edit the copy to provide your answers. You are to complete the assignment entirely within Google Colab. Why?\n",
    "\n",
    "- It gives you practice using cloud-based interactive notebook environments (which is a popular workflow)\n",
    "- It is easier for you to manage the environment (e.g., installing packages, etc.)\n",
    "- Google Colab has nice, beefy machines, so you don't have to worry about running out of memory on your local computer.\n",
    "- It will be easier for the TA to help you debug your code if you need help\n",
    "- It will be easier for the TA to mark/run your code\n",
    "\n",
    "Some parts of this assigment require you to write code. Use Python. You may use standard Python libraries, including `scikit-learn`, `pandas`, `numpy`, and scipy`.\n",
    "\n",
    "Some parts of this assignment require text responses. In these cases, type your response in the Notebook cell indicated. Use English. Use proper grammar, spelling, and punctuation. Be professional and clear. Be complete, but not overly-verbose. Feel free to use [Markdown syntax](https://www.markdownguide.org/basic-syntax/) to format your answer (i.e., add bold, italics, lists, tables).\n",
    "\n",
    "## What to Submit to the Course Portal\n",
    "\n",
    "- Export your completed Notebook as a PDF file by clicking File->Print->Save as PDF.\n",
    "- Please do not submit the Notebook file (`.ipynb`) to the course portal. \n",
    "- Please submit the PDF export of the Notebook. \n",
    "   - Please name the PDF file `2022_869_FirstnameLastName.pdf`\n",
    "      - E.g., `2022_869_StephenThomas.pdf`\n",
    "   - Please make sure you have run all the cells so we can see the output!\n",
    "   - Best practice: Before exporting to PDF click Runtime->Restart and run all.\n",
    "\n"
   ]
  },
  {
   "cell_type": "markdown",
   "metadata": {
    "id": "oZFTCX4DqmRO"
   },
   "source": [
    "# Preliminaries: Inspect and Set up environment\n",
    "\n",
    "No action is required on your part in this section. These cells print out helpful information about the environment, just in case."
   ]
  },
  {
   "cell_type": "code",
   "execution_count": 1,
   "metadata": {
    "id": "xj34Jz-Do_oK"
   },
   "outputs": [],
   "source": [
    "import datetime\n",
    "import pandas as pd\n",
    "import numpy as np\n",
    "np.set_printoptions(precision=2, suppress = True) \n",
    "import matplotlib.pyplot as plt\n",
    "from pandas.plotting import parallel_coordinates\n",
    "import seaborn as sns\n",
    "from sklearn.metrics import silhouette_score, silhouette_samples\n",
    "from sklearn.preprocessing import StandardScaler\n",
    "from sklearn.preprocessing import LabelEncoder\n",
    "from sklearn.cluster import KMeans, DBSCAN\n",
    "from sklearn.linear_model import LogisticRegression\n",
    "from sklearn.model_selection import KFold\n",
    "from sklearn.model_selection import cross_val_score, cross_validate\n",
    "from sklearn.metrics import make_scorer, accuracy_score, precision_score, recall_score, f1_score\n",
    "from sklearn.preprocessing import PolynomialFeatures"
   ]
  },
  {
   "cell_type": "code",
   "execution_count": 2,
   "metadata": {
    "colab": {
     "base_uri": "https://localhost:8080/"
    },
    "id": "mqQ_XOKyXTS6",
    "outputId": "87cd4968-41ff-410f-82e6-998a51f92e8a"
   },
   "outputs": [
    {
     "name": "stdout",
     "output_type": "stream",
     "text": [
      "2022-08-14 18:23:39.834152\n"
     ]
    }
   ],
   "source": [
    "print(datetime.datetime.now())"
   ]
  },
  {
   "cell_type": "code",
   "execution_count": 3,
   "metadata": {
    "colab": {
     "base_uri": "https://localhost:8080/"
    },
    "id": "LfOMt1lErLhZ",
    "outputId": "32978a1c-80f5-4f47-e308-e1097f9d797a"
   },
   "outputs": [
    {
     "name": "stderr",
     "output_type": "stream",
     "text": [
      "'which' is not recognized as an internal or external command,\n",
      "operable program or batch file.\n"
     ]
    }
   ],
   "source": [
    "!which python"
   ]
  },
  {
   "cell_type": "code",
   "execution_count": 4,
   "metadata": {
    "colab": {
     "base_uri": "https://localhost:8080/"
    },
    "id": "aub2w1-arM5K",
    "outputId": "f00c7a88-117f-4e5d-841d-bdec67a7847d"
   },
   "outputs": [
    {
     "name": "stdout",
     "output_type": "stream",
     "text": [
      "Python 3.9.12\n"
     ]
    }
   ],
   "source": [
    "!python --version"
   ]
  },
  {
   "cell_type": "code",
   "execution_count": 5,
   "metadata": {
    "colab": {
     "base_uri": "https://localhost:8080/"
    },
    "id": "E9Y_n_8UrO9i",
    "outputId": "47f43ec0-1929-4cac-bb1f-2f890e792b9b"
   },
   "outputs": [
    {
     "name": "stdout",
     "output_type": "stream",
     "text": [
      "$PYTHONPATH\n"
     ]
    }
   ],
   "source": [
    "!echo $PYTHONPATH"
   ]
  },
  {
   "cell_type": "code",
   "execution_count": 6,
   "metadata": {
    "id": "-qyD7Jl0Gw1E"
   },
   "outputs": [],
   "source": [
    "# TODO: install any packages you need to here. For example:\n",
    "#pip install unidecode"
   ]
  },
  {
   "cell_type": "markdown",
   "metadata": {
    "id": "RLlBjIyS2o54"
   },
   "source": [
    "# Question 1: Uncle Steve's Diamonds"
   ]
  },
  {
   "cell_type": "markdown",
   "metadata": {
    "id": "qj1NSQelo_oN"
   },
   "source": [
    "## Instructions\n",
    "\n",
    "You work at a local jewelry store named *Uncle Steve's Diamonds*. You started as a janitor, but you’ve recently been promoted to senior data analyst! Congratulations.\n",
    "\n",
    "Uncle Steve, the store's owner, needs to better understand the store's customers. In particular, he wants to know what kind of customers shop at the store. He wants to know the main types of *customer personas*. Once he knows these, he will contemplate ways to better market to each persona, better satisfy each persona, better cater to each persona, increase the loyalty of each persona, etc. But first, he must know the personas.\n",
    "\n",
    "You want to help Uncle Steve. Using sneaky magic (and the help of Environics), you've collected four useful features for a subset of the customers: age, income, spending score (i.e., a score based on how much they’ve spent at the store in total), and savings (i.e., how much money they have in their personal bank account). \n",
    "\n",
    "**Your tasks**\n",
    "\n",
    "1. Pick a clustering algorithm (the [`sklearn.cluster`](https://scikit-learn.org/stable/modules/classes.html#module-sklearn.cluster) module has many good choices, including [`KMeans`](https://scikit-learn.org/stable/modules/generated/sklearn.cluster.KMeans.html#sklearn.cluster.KMeans), [`DBSCAN`](https://scikit-learn.org/stable/modules/generated/sklearn.cluster.DBSCAN.html#sklearn.cluster.DBSCAN), and [`AgglomerativeClustering`](https://scikit-learn.org/stable/modules/generated/sklearn.cluster.AgglomerativeClustering.html#sklearn.cluster.AgglomerativeClustering) (aka Hierarchical). (Note that another popular implementation of the hierarchical algorithm can be found in SciPy's [`scipy.cluster.hierarchy.linkage`](https://docs.scipy.org/doc/scipy/reference/generated/scipy.cluster.hierarchy.linkage.html).) Don't spend a lot of time thinking about which algorithm to choose - just pick one. Cluster the customers as best as you can, within reason. That is, try different feature preprocessing steps, hyperparameter values, and/or distance metrics. You don't need to try every single posssible combination, but try a few at least. Measure how good each  model configuration is by calculating an internal validation metric (e.g., [`calinski_harabasz_score`](https://scikit-learn.org/stable/modules/generated/sklearn.metrics.calinski_harabasz_score.html) or [`silhouette_score`](https://scikit-learn.org/stable/modules/generated/sklearn.metrics.silhouette_score.html#sklearn.metrics.silhouette_score)).\n",
    "2. You have some doubts - you're not sure if the algorithm you chose in part 1 is the best algorithm for this dataset/problem. Neither is Uncle Steve. So, choose a different algorithm (any!) and do it all again.\n",
    "3. Which clustering algorithm is \"better\" in this case? Think about charateristics of the algorithm like quality of results, ease of use, speed, interpretability, etc. Choose a winner and justify to Uncle Steve.\n",
    "4. Interpret the clusters of the winning model. That is, describe, in words, a *persona* that accurately depicts each cluster. Use statistics (e.g., cluster means/distributions), examples (e.g., exemplar instances from each cluster), and/or visualizations (e.g., relative importance plots, snakeplots) to get started. Human judgement and creativity will be necessary. This is where it all comes together. Be descripive and *help Uncle Steve understand his customers better*. Please!\n",
    "\n",
    "**Marking**\n",
    "\n",
    "The coding parts (i.e., 1 and 2) will be marked based on:\n",
    "\n",
    "- *Correctness*. Code clearly and fully performs the task specified.\n",
    "- *Reproducibility*. Code is fully reproducible. I.e., you (and I) are able to run this Notebook again and again, from top to bottom, and get the same results each time.\n",
    "- *Style*. Code is organized. All parts commented with clear reasoning and rationale. No old code laying around. Code easy to follow.\n",
    "\n",
    "\n",
    "Parts 3 and 4 will be marked on:\n",
    "\n",
    "- *Quality*. Response is well-justified and convincing. Responses uses facts and data where possible.\n",
    "- *Style*. Response uses proper grammar, spelling, and punctuation. Response is clear and professional. Response is complete, but not overly-verbose. Response follows length guidelines.\n",
    "\n",
    "\n",
    "**Tips**\n",
    "\n",
    "- Since clustering is an unsupervised ML technique, you don't need to split the data into training/validation/test or anything like that. Phew!\n",
    "- On the flip side, since clustering is unsupervised, you will never know the \"true\" clusters, and so you will never know if a given algorithm is \"correct.\" There really is no notion of \"correctness\" - only \"usefullness.\"\n",
    "- Many online clustering tutorials (including some from Uncle Steve) create flashy visualizations of the clusters by plotting the instances on a 2-D graph and coloring each point by the cluster ID. This is really nice and all, but it can only work if your dataset only has exactly two features - no more, no less. This dataset has more than two features, so you cannot use this technique. (But that's OK - you don't need to use this technique.) \n",
    "- Must you use all four features in the clustering? Not necessarily, no. But \"throwing away\" quality data, for no reason, is unlikely to improve a model.\n",
    "- Some people have success applying a dimensionality reduction technique (like [`sklearn.decomposition.PCA`](https://scikit-learn.org/stable/modules/generated/sklearn.decomposition.PCA.html)) to the features before clustering. You may do this if you wish, although it may not be as helpful in this case because there are only four features to begin with.\n",
    "- If you apply a transformation (e.g., [`MinMaxScaler`](https://scikit-learn.org/stable/modules/generated/sklearn.preprocessing.MinMaxScaler.html) or [`StandardScaler`](https://scikit-learn.org/stable/modules/generated/sklearn.preprocessing.StandardScaler.html#sklearn.preprocessing.StandardScaler)) to the features before clustering, you may have difficulty interpretting the means of the clusters (e.g., what is a mean Age of 0.2234??). There are two options to fix this: first, you can always reverse a transformation with the `inverse_transform` method. Second, you can just use the original dataset (i.e., before any prepropoceesing) during the interpreation step.\n",
    "- You cannot change the distance metric for K-Means. (This is for theoretical reasons: K-Means only works/makes sense with Euclidean distance.\n"
   ]
  },
  {
   "cell_type": "markdown",
   "metadata": {
    "id": "Yww0-vtpOw7z"
   },
   "source": [
    "## 1.0: Load data "
   ]
  },
  {
   "cell_type": "code",
   "execution_count": 7,
   "metadata": {
    "colab": {
     "base_uri": "https://localhost:8080/"
    },
    "id": "qVWx2c-DhQYo",
    "outputId": "952618fe-1e32-4cbc-b98a-b72110b42373"
   },
   "outputs": [
    {
     "name": "stdout",
     "output_type": "stream",
     "text": [
      "<class 'pandas.core.frame.DataFrame'>\n",
      "RangeIndex: 505 entries, 0 to 504\n",
      "Data columns (total 4 columns):\n",
      " #   Column         Non-Null Count  Dtype  \n",
      "---  ------         --------------  -----  \n",
      " 0   Age            505 non-null    int64  \n",
      " 1   Income         505 non-null    int64  \n",
      " 2   SpendingScore  505 non-null    float64\n",
      " 3   Savings        505 non-null    float64\n",
      "dtypes: float64(2), int64(2)\n",
      "memory usage: 15.9 KB\n"
     ]
    }
   ],
   "source": [
    "# DO NOT MODIFY THIS CELL\n",
    "df1 = pd.read_csv(\"https://drive.google.com/uc?export=download&id=1thHDCwQK3GijytoSSZNekAsItN_FGHtm\")\n",
    "df1.info()"
   ]
  },
  {
   "cell_type": "code",
   "execution_count": 8,
   "metadata": {},
   "outputs": [
    {
     "data": {
      "text/plain": [
       "Age              0\n",
       "Income           0\n",
       "SpendingScore    0\n",
       "Savings          0\n",
       "dtype: int64"
      ]
     },
     "execution_count": 8,
     "metadata": {},
     "output_type": "execute_result"
    }
   ],
   "source": [
    "#Check nulls\n",
    "df1.isna().sum()"
   ]
  },
  {
   "cell_type": "code",
   "execution_count": 9,
   "metadata": {},
   "outputs": [
    {
     "data": {
      "text/html": [
       "<div>\n",
       "<style scoped>\n",
       "    .dataframe tbody tr th:only-of-type {\n",
       "        vertical-align: middle;\n",
       "    }\n",
       "\n",
       "    .dataframe tbody tr th {\n",
       "        vertical-align: top;\n",
       "    }\n",
       "\n",
       "    .dataframe thead th {\n",
       "        text-align: right;\n",
       "    }\n",
       "</style>\n",
       "<table border=\"1\" class=\"dataframe\">\n",
       "  <thead>\n",
       "    <tr style=\"text-align: right;\">\n",
       "      <th></th>\n",
       "      <th>Age</th>\n",
       "      <th>Income</th>\n",
       "      <th>SpendingScore</th>\n",
       "      <th>Savings</th>\n",
       "    </tr>\n",
       "  </thead>\n",
       "  <tbody>\n",
       "    <tr>\n",
       "      <th>count</th>\n",
       "      <td>505.000000</td>\n",
       "      <td>505.000000</td>\n",
       "      <td>505.000000</td>\n",
       "      <td>505.000000</td>\n",
       "    </tr>\n",
       "    <tr>\n",
       "      <th>mean</th>\n",
       "      <td>59.019802</td>\n",
       "      <td>75513.291089</td>\n",
       "      <td>0.505083</td>\n",
       "      <td>11862.455867</td>\n",
       "    </tr>\n",
       "    <tr>\n",
       "      <th>std</th>\n",
       "      <td>24.140043</td>\n",
       "      <td>35992.922184</td>\n",
       "      <td>0.259634</td>\n",
       "      <td>4949.229253</td>\n",
       "    </tr>\n",
       "    <tr>\n",
       "      <th>min</th>\n",
       "      <td>17.000000</td>\n",
       "      <td>12000.000000</td>\n",
       "      <td>0.000000</td>\n",
       "      <td>0.000000</td>\n",
       "    </tr>\n",
       "    <tr>\n",
       "      <th>25%</th>\n",
       "      <td>34.000000</td>\n",
       "      <td>34529.000000</td>\n",
       "      <td>0.304792</td>\n",
       "      <td>6828.709702</td>\n",
       "    </tr>\n",
       "    <tr>\n",
       "      <th>50%</th>\n",
       "      <td>59.000000</td>\n",
       "      <td>75078.000000</td>\n",
       "      <td>0.368215</td>\n",
       "      <td>14209.932802</td>\n",
       "    </tr>\n",
       "    <tr>\n",
       "      <th>75%</th>\n",
       "      <td>85.000000</td>\n",
       "      <td>107100.000000</td>\n",
       "      <td>0.768279</td>\n",
       "      <td>16047.268331</td>\n",
       "    </tr>\n",
       "    <tr>\n",
       "      <th>max</th>\n",
       "      <td>97.000000</td>\n",
       "      <td>142000.000000</td>\n",
       "      <td>1.000000</td>\n",
       "      <td>20000.000000</td>\n",
       "    </tr>\n",
       "  </tbody>\n",
       "</table>\n",
       "</div>"
      ],
      "text/plain": [
       "              Age         Income  SpendingScore       Savings\n",
       "count  505.000000     505.000000     505.000000    505.000000\n",
       "mean    59.019802   75513.291089       0.505083  11862.455867\n",
       "std     24.140043   35992.922184       0.259634   4949.229253\n",
       "min     17.000000   12000.000000       0.000000      0.000000\n",
       "25%     34.000000   34529.000000       0.304792   6828.709702\n",
       "50%     59.000000   75078.000000       0.368215  14209.932802\n",
       "75%     85.000000  107100.000000       0.768279  16047.268331\n",
       "max     97.000000  142000.000000       1.000000  20000.000000"
      ]
     },
     "execution_count": 9,
     "metadata": {},
     "output_type": "execute_result"
    }
   ],
   "source": [
    "#Summary statistics of the data\n",
    "df1.describe()"
   ]
  },
  {
   "cell_type": "markdown",
   "metadata": {
    "id": "R04NzckZKbG2"
   },
   "source": [
    "## 1.1: Clustering Algorithm #1 - KMeans"
   ]
  },
  {
   "cell_type": "code",
   "execution_count": 10,
   "metadata": {},
   "outputs": [
    {
     "data": {
      "text/plain": [
       "<seaborn.axisgrid.PairGrid at 0x2c361787e20>"
      ]
     },
     "execution_count": 10,
     "metadata": {},
     "output_type": "execute_result"
    },
    {
     "data": {
      "image/png": "[encoded data removed]",
      "text/plain": [
       "<Figure size 720x720 with 20 Axes>"
      ]
     },
     "metadata": {
      "needs_background": "light"
     },
     "output_type": "display_data"
    }
   ],
   "source": [
    "#Plot the scatterplots for every combination of features to determine the right number of clusters\n",
    "sns.pairplot(df1)"
   ]
  },
  {
   "cell_type": "code",
   "execution_count": 11,
   "metadata": {},
   "outputs": [],
   "source": [
    "#Function to perform Elbow method plots\n",
    "def elbow_plt(dataframe):\n",
    "    wcss=[]\n",
    "    for i in range(1,10):\n",
    "        kmeans = KMeans(n_clusters = i,init = 'k-means++',  random_state = 42)\n",
    "        kmeans.fit(dataframe)\n",
    "        wcss.append(kmeans.inertia_)\n",
    "\n",
    "    number_clusters = range(1,10)\n",
    "    plt.plot(number_clusters,wcss)\n",
    "    plt.title('The Elbow title')\n",
    "    plt.xlabel('Number of clusters')\n",
    "    plt.ylabel('Within Cluster Sum Square')\n",
    "\n",
    "def silhouette_plt(dataframe):\n",
    "    sil = []\n",
    "    for i in range(2,10):\n",
    "        kmeans = KMeans(n_clusters = i)\n",
    "        kmeans.fit(dataframe)\n",
    "        sil.append(silhouette_score(dataframe, kmeans.labels_, metric = 'euclidean'))\n",
    "        print(sil)\n",
    "    \n",
    "    number_clusters = range(2,10)\n",
    "    plt.plot(number_clusters,sil)\n",
    "    plt.title('The Elbow title')\n",
    "    plt.xlabel('K')\n",
    "    plt.ylabel('Silhoutte Score')"
   ]
  },
  {
   "cell_type": "code",
   "execution_count": 12,
   "metadata": {},
   "outputs": [
    {
     "name": "stderr",
     "output_type": "stream",
     "text": [
      "D:\\MMA\\ANACONDA\\lib\\site-packages\\sklearn\\cluster\\_kmeans.py:1332: UserWarning: KMeans is known to have a memory leak on Windows with MKL, when there are less chunks than available threads. You can avoid it by setting the environment variable OMP_NUM_THREADS=2.\n",
      "  warnings.warn(\n",
      "D:\\MMA\\ANACONDA\\lib\\site-packages\\sklearn\\cluster\\_kmeans.py:1332: UserWarning: KMeans is known to have a memory leak on Windows with MKL, when there are less chunks than available threads. You can avoid it by setting the environment variable OMP_NUM_THREADS=2.\n",
      "  warnings.warn(\n",
      "D:\\MMA\\ANACONDA\\lib\\site-packages\\sklearn\\cluster\\_kmeans.py:1332: UserWarning: KMeans is known to have a memory leak on Windows with MKL, when there are less chunks than available threads. You can avoid it by setting the environment variable OMP_NUM_THREADS=2.\n",
      "  warnings.warn(\n",
      "D:\\MMA\\ANACONDA\\lib\\site-packages\\sklearn\\cluster\\_kmeans.py:1332: UserWarning: KMeans is known to have a memory leak on Windows with MKL, when there are less chunks than available threads. You can avoid it by setting the environment variable OMP_NUM_THREADS=2.\n",
      "  warnings.warn(\n",
      "D:\\MMA\\ANACONDA\\lib\\site-packages\\sklearn\\cluster\\_kmeans.py:1332: UserWarning: KMeans is known to have a memory leak on Windows with MKL, when there are less chunks than available threads. You can avoid it by setting the environment variable OMP_NUM_THREADS=2.\n",
      "  warnings.warn(\n",
      "D:\\MMA\\ANACONDA\\lib\\site-packages\\sklearn\\cluster\\_kmeans.py:1332: UserWarning: KMeans is known to have a memory leak on Windows with MKL, when there are less chunks than available threads. You can avoid it by setting the environment variable OMP_NUM_THREADS=2.\n",
      "  warnings.warn(\n",
      "D:\\MMA\\ANACONDA\\lib\\site-packages\\sklearn\\cluster\\_kmeans.py:1332: UserWarning: KMeans is known to have a memory leak on Windows with MKL, when there are less chunks than available threads. You can avoid it by setting the environment variable OMP_NUM_THREADS=2.\n",
      "  warnings.warn(\n",
      "D:\\MMA\\ANACONDA\\lib\\site-packages\\sklearn\\cluster\\_kmeans.py:1332: UserWarning: KMeans is known to have a memory leak on Windows with MKL, when there are less chunks than available threads. You can avoid it by setting the environment variable OMP_NUM_THREADS=2.\n",
      "  warnings.warn(\n",
      "D:\\MMA\\ANACONDA\\lib\\site-packages\\sklearn\\cluster\\_kmeans.py:1332: UserWarning: KMeans is known to have a memory leak on Windows with MKL, when there are less chunks than available threads. You can avoid it by setting the environment variable OMP_NUM_THREADS=2.\n",
      "  warnings.warn(\n"
     ]
    },
    {
     "data": {
      "image/png": "[encoded data removed]",
      "text/plain": [
       "<Figure size 432x288 with 1 Axes>"
      ]
     },
     "metadata": {
      "needs_background": "light"
     },
     "output_type": "display_data"
    }
   ],
   "source": [
    "#Original Dataframe Elbow Method - Intertia\n",
    "elbow_plt(df1)"
   ]
  },
  {
   "cell_type": "code",
   "execution_count": 13,
   "metadata": {
    "scrolled": true
   },
   "outputs": [
    {
     "name": "stderr",
     "output_type": "stream",
     "text": [
      "D:\\MMA\\ANACONDA\\lib\\site-packages\\sklearn\\cluster\\_kmeans.py:1332: UserWarning: KMeans is known to have a memory leak on Windows with MKL, when there are less chunks than available threads. You can avoid it by setting the environment variable OMP_NUM_THREADS=2.\n",
      "  warnings.warn(\n"
     ]
    },
    {
     "name": "stdout",
     "output_type": "stream",
     "text": [
      "[0.6547312337772452]\n"
     ]
    },
    {
     "name": "stderr",
     "output_type": "stream",
     "text": [
      "D:\\MMA\\ANACONDA\\lib\\site-packages\\sklearn\\cluster\\_kmeans.py:1332: UserWarning: KMeans is known to have a memory leak on Windows with MKL, when there are less chunks than available threads. You can avoid it by setting the environment variable OMP_NUM_THREADS=2.\n",
      "  warnings.warn(\n"
     ]
    },
    {
     "name": "stdout",
     "output_type": "stream",
     "text": [
      "[0.6547312337772452, 0.7393168523275075]\n"
     ]
    },
    {
     "name": "stderr",
     "output_type": "stream",
     "text": [
      "D:\\MMA\\ANACONDA\\lib\\site-packages\\sklearn\\cluster\\_kmeans.py:1332: UserWarning: KMeans is known to have a memory leak on Windows with MKL, when there are less chunks than available threads. You can avoid it by setting the environment variable OMP_NUM_THREADS=2.\n",
      "  warnings.warn(\n"
     ]
    },
    {
     "name": "stdout",
     "output_type": "stream",
     "text": [
      "[0.6547312337772452, 0.7393168523275075, 0.7207226008574878]\n"
     ]
    },
    {
     "name": "stderr",
     "output_type": "stream",
     "text": [
      "D:\\MMA\\ANACONDA\\lib\\site-packages\\sklearn\\cluster\\_kmeans.py:1332: UserWarning: KMeans is known to have a memory leak on Windows with MKL, when there are less chunks than available threads. You can avoid it by setting the environment variable OMP_NUM_THREADS=2.\n",
      "  warnings.warn(\n"
     ]
    },
    {
     "name": "stdout",
     "output_type": "stream",
     "text": [
      "[0.6547312337772452, 0.7393168523275075, 0.7207226008574878, 0.6776291615650943]\n"
     ]
    },
    {
     "name": "stderr",
     "output_type": "stream",
     "text": [
      "D:\\MMA\\ANACONDA\\lib\\site-packages\\sklearn\\cluster\\_kmeans.py:1332: UserWarning: KMeans is known to have a memory leak on Windows with MKL, when there are less chunks than available threads. You can avoid it by setting the environment variable OMP_NUM_THREADS=2.\n",
      "  warnings.warn(\n"
     ]
    },
    {
     "name": "stdout",
     "output_type": "stream",
     "text": [
      "[0.6547312337772452, 0.7393168523275075, 0.7207226008574878, 0.6776291615650943, 0.5798719072408797]\n"
     ]
    },
    {
     "name": "stderr",
     "output_type": "stream",
     "text": [
      "D:\\MMA\\ANACONDA\\lib\\site-packages\\sklearn\\cluster\\_kmeans.py:1332: UserWarning: KMeans is known to have a memory leak on Windows with MKL, when there are less chunks than available threads. You can avoid it by setting the environment variable OMP_NUM_THREADS=2.\n",
      "  warnings.warn(\n"
     ]
    },
    {
     "name": "stdout",
     "output_type": "stream",
     "text": [
      "[0.6547312337772452, 0.7393168523275075, 0.7207226008574878, 0.6776291615650943, 0.5798719072408797, 0.5157060289189551]\n"
     ]
    },
    {
     "name": "stderr",
     "output_type": "stream",
     "text": [
      "D:\\MMA\\ANACONDA\\lib\\site-packages\\sklearn\\cluster\\_kmeans.py:1332: UserWarning: KMeans is known to have a memory leak on Windows with MKL, when there are less chunks than available threads. You can avoid it by setting the environment variable OMP_NUM_THREADS=2.\n",
      "  warnings.warn(\n"
     ]
    },
    {
     "name": "stdout",
     "output_type": "stream",
     "text": [
      "[0.6547312337772452, 0.7393168523275075, 0.7207226008574878, 0.6776291615650943, 0.5798719072408797, 0.5157060289189551, 0.51980361115202]\n"
     ]
    },
    {
     "name": "stderr",
     "output_type": "stream",
     "text": [
      "D:\\MMA\\ANACONDA\\lib\\site-packages\\sklearn\\cluster\\_kmeans.py:1332: UserWarning: KMeans is known to have a memory leak on Windows with MKL, when there are less chunks than available threads. You can avoid it by setting the environment variable OMP_NUM_THREADS=2.\n",
      "  warnings.warn(\n"
     ]
    },
    {
     "name": "stdout",
     "output_type": "stream",
     "text": [
      "[0.6547312337772452, 0.7393168523275075, 0.7207226008574878, 0.6776291615650943, 0.5798719072408797, 0.5157060289189551, 0.51980361115202, 0.5247157919654156]\n"
     ]
    },
    {
     "data": {
      "image/png": "[encoded data removed]",
      "text/plain": [
       "<Figure size 432x288 with 1 Axes>"
      ]
     },
     "metadata": {
      "needs_background": "light"
     },
     "output_type": "display_data"
    }
   ],
   "source": [
    "#Original Dataframe Silhouette Score Plot\n",
    "silhouette_plt(df1)"
   ]
  },
  {
   "cell_type": "code",
   "execution_count": 14,
   "metadata": {},
   "outputs": [
    {
     "data": {
      "text/html": [
       "<div>\n",
       "<style scoped>\n",
       "    .dataframe tbody tr th:only-of-type {\n",
       "        vertical-align: middle;\n",
       "    }\n",
       "\n",
       "    .dataframe tbody tr th {\n",
       "        vertical-align: top;\n",
       "    }\n",
       "\n",
       "    .dataframe thead th {\n",
       "        text-align: right;\n",
       "    }\n",
       "</style>\n",
       "<table border=\"1\" class=\"dataframe\">\n",
       "  <thead>\n",
       "    <tr style=\"text-align: right;\">\n",
       "      <th></th>\n",
       "      <th>Age</th>\n",
       "      <th>Income</th>\n",
       "      <th>SpendingScore</th>\n",
       "      <th>Savings</th>\n",
       "    </tr>\n",
       "  </thead>\n",
       "  <tbody>\n",
       "    <tr>\n",
       "      <th>0</th>\n",
       "      <td>-0.042287</td>\n",
       "      <td>0.062733</td>\n",
       "      <td>1.103593</td>\n",
       "      <td>-1.072467</td>\n",
       "    </tr>\n",
       "    <tr>\n",
       "      <th>1</th>\n",
       "      <td>-0.000821</td>\n",
       "      <td>0.174811</td>\n",
       "      <td>1.102641</td>\n",
       "      <td>-1.303473</td>\n",
       "    </tr>\n",
       "    <tr>\n",
       "      <th>2</th>\n",
       "      <td>0.123577</td>\n",
       "      <td>-0.021200</td>\n",
       "      <td>0.761727</td>\n",
       "      <td>-0.526556</td>\n",
       "    </tr>\n",
       "    <tr>\n",
       "      <th>3</th>\n",
       "      <td>-0.000821</td>\n",
       "      <td>-0.031712</td>\n",
       "      <td>1.004705</td>\n",
       "      <td>-0.913395</td>\n",
       "    </tr>\n",
       "    <tr>\n",
       "      <th>4</th>\n",
       "      <td>1.160228</td>\n",
       "      <td>-1.606165</td>\n",
       "      <td>-0.602619</td>\n",
       "      <td>1.012686</td>\n",
       "    </tr>\n",
       "  </tbody>\n",
       "</table>\n",
       "</div>"
      ],
      "text/plain": [
       "        Age    Income  SpendingScore   Savings\n",
       "0 -0.042287  0.062733       1.103593 -1.072467\n",
       "1 -0.000821  0.174811       1.102641 -1.303473\n",
       "2  0.123577 -0.021200       0.761727 -0.526556\n",
       "3 -0.000821 -0.031712       1.004705 -0.913395\n",
       "4  1.160228 -1.606165      -0.602619  1.012686"
      ]
     },
     "execution_count": 14,
     "metadata": {},
     "output_type": "execute_result"
    }
   ],
   "source": [
    "#Perform scaling on dataset to apply KMeans\n",
    "scaled_df1 = df1.copy()\n",
    "scaler = StandardScaler()\n",
    "scaled_df1[scaled_df1.columns] = scaler.fit_transform(df1)\n",
    "scaled_df1.head()"
   ]
  },
  {
   "cell_type": "code",
   "execution_count": 15,
   "metadata": {},
   "outputs": [
    {
     "name": "stderr",
     "output_type": "stream",
     "text": [
      "D:\\MMA\\ANACONDA\\lib\\site-packages\\sklearn\\cluster\\_kmeans.py:1332: UserWarning: KMeans is known to have a memory leak on Windows with MKL, when there are less chunks than available threads. You can avoid it by setting the environment variable OMP_NUM_THREADS=2.\n",
      "  warnings.warn(\n",
      "D:\\MMA\\ANACONDA\\lib\\site-packages\\sklearn\\cluster\\_kmeans.py:1332: UserWarning: KMeans is known to have a memory leak on Windows with MKL, when there are less chunks than available threads. You can avoid it by setting the environment variable OMP_NUM_THREADS=2.\n",
      "  warnings.warn(\n",
      "D:\\MMA\\ANACONDA\\lib\\site-packages\\sklearn\\cluster\\_kmeans.py:1332: UserWarning: KMeans is known to have a memory leak on Windows with MKL, when there are less chunks than available threads. You can avoid it by setting the environment variable OMP_NUM_THREADS=2.\n",
      "  warnings.warn(\n",
      "D:\\MMA\\ANACONDA\\lib\\site-packages\\sklearn\\cluster\\_kmeans.py:1332: UserWarning: KMeans is known to have a memory leak on Windows with MKL, when there are less chunks than available threads. You can avoid it by setting the environment variable OMP_NUM_THREADS=2.\n",
      "  warnings.warn(\n",
      "D:\\MMA\\ANACONDA\\lib\\site-packages\\sklearn\\cluster\\_kmeans.py:1332: UserWarning: KMeans is known to have a memory leak on Windows with MKL, when there are less chunks than available threads. You can avoid it by setting the environment variable OMP_NUM_THREADS=2.\n",
      "  warnings.warn(\n",
      "D:\\MMA\\ANACONDA\\lib\\site-packages\\sklearn\\cluster\\_kmeans.py:1332: UserWarning: KMeans is known to have a memory leak on Windows with MKL, when there are less chunks than available threads. You can avoid it by setting the environment variable OMP_NUM_THREADS=2.\n",
      "  warnings.warn(\n",
      "D:\\MMA\\ANACONDA\\lib\\site-packages\\sklearn\\cluster\\_kmeans.py:1332: UserWarning: KMeans is known to have a memory leak on Windows with MKL, when there are less chunks than available threads. You can avoid it by setting the environment variable OMP_NUM_THREADS=2.\n",
      "  warnings.warn(\n",
      "D:\\MMA\\ANACONDA\\lib\\site-packages\\sklearn\\cluster\\_kmeans.py:1332: UserWarning: KMeans is known to have a memory leak on Windows with MKL, when there are less chunks than available threads. You can avoid it by setting the environment variable OMP_NUM_THREADS=2.\n",
      "  warnings.warn(\n",
      "D:\\MMA\\ANACONDA\\lib\\site-packages\\sklearn\\cluster\\_kmeans.py:1332: UserWarning: KMeans is known to have a memory leak on Windows with MKL, when there are less chunks than available threads. You can avoid it by setting the environment variable OMP_NUM_THREADS=2.\n",
      "  warnings.warn(\n"
     ]
    },
    {
     "data": {
      "image/png": "[encoded data removed]",
      "text/plain": [
       "<Figure size 432x288 with 1 Axes>"
      ]
     },
     "metadata": {
      "needs_background": "light"
     },
     "output_type": "display_data"
    }
   ],
   "source": [
    "#Scaled Dataframe Elbow Method - Inertia\n",
    "elbow_plt(scaled_df1)"
   ]
  },
  {
   "cell_type": "code",
   "execution_count": 16,
   "metadata": {},
   "outputs": [
    {
     "name": "stderr",
     "output_type": "stream",
     "text": [
      "D:\\MMA\\ANACONDA\\lib\\site-packages\\sklearn\\cluster\\_kmeans.py:1332: UserWarning: KMeans is known to have a memory leak on Windows with MKL, when there are less chunks than available threads. You can avoid it by setting the environment variable OMP_NUM_THREADS=2.\n",
      "  warnings.warn(\n"
     ]
    },
    {
     "name": "stdout",
     "output_type": "stream",
     "text": [
      "[0.5212589967674504]\n"
     ]
    },
    {
     "name": "stderr",
     "output_type": "stream",
     "text": [
      "D:\\MMA\\ANACONDA\\lib\\site-packages\\sklearn\\cluster\\_kmeans.py:1332: UserWarning: KMeans is known to have a memory leak on Windows with MKL, when there are less chunks than available threads. You can avoid it by setting the environment variable OMP_NUM_THREADS=2.\n",
      "  warnings.warn(\n"
     ]
    },
    {
     "name": "stdout",
     "output_type": "stream",
     "text": [
      "[0.5212589967674504, 0.6963481945884472]\n"
     ]
    },
    {
     "name": "stderr",
     "output_type": "stream",
     "text": [
      "D:\\MMA\\ANACONDA\\lib\\site-packages\\sklearn\\cluster\\_kmeans.py:1332: UserWarning: KMeans is known to have a memory leak on Windows with MKL, when there are less chunks than available threads. You can avoid it by setting the environment variable OMP_NUM_THREADS=2.\n",
      "  warnings.warn(\n"
     ]
    },
    {
     "name": "stdout",
     "output_type": "stream",
     "text": [
      "[0.5212589967674504, 0.6963481945884472, 0.7581191889903789]\n"
     ]
    },
    {
     "name": "stderr",
     "output_type": "stream",
     "text": [
      "D:\\MMA\\ANACONDA\\lib\\site-packages\\sklearn\\cluster\\_kmeans.py:1332: UserWarning: KMeans is known to have a memory leak on Windows with MKL, when there are less chunks than available threads. You can avoid it by setting the environment variable OMP_NUM_THREADS=2.\n",
      "  warnings.warn(\n"
     ]
    },
    {
     "name": "stdout",
     "output_type": "stream",
     "text": [
      "[0.5212589967674504, 0.6963481945884472, 0.7581191889903789, 0.8048976287755765]\n"
     ]
    },
    {
     "name": "stderr",
     "output_type": "stream",
     "text": [
      "D:\\MMA\\ANACONDA\\lib\\site-packages\\sklearn\\cluster\\_kmeans.py:1332: UserWarning: KMeans is known to have a memory leak on Windows with MKL, when there are less chunks than available threads. You can avoid it by setting the environment variable OMP_NUM_THREADS=2.\n",
      "  warnings.warn(\n"
     ]
    },
    {
     "name": "stdout",
     "output_type": "stream",
     "text": [
      "[0.5212589967674504, 0.6963481945884472, 0.7581191889903789, 0.8048976287755765, 0.6329626627921736]\n"
     ]
    },
    {
     "name": "stderr",
     "output_type": "stream",
     "text": [
      "D:\\MMA\\ANACONDA\\lib\\site-packages\\sklearn\\cluster\\_kmeans.py:1332: UserWarning: KMeans is known to have a memory leak on Windows with MKL, when there are less chunks than available threads. You can avoid it by setting the environment variable OMP_NUM_THREADS=2.\n",
      "  warnings.warn(\n"
     ]
    },
    {
     "name": "stdout",
     "output_type": "stream",
     "text": [
      "[0.5212589967674504, 0.6963481945884472, 0.7581191889903789, 0.8048976287755765, 0.6329626627921736, 0.44419503163242824]\n"
     ]
    },
    {
     "name": "stderr",
     "output_type": "stream",
     "text": [
      "D:\\MMA\\ANACONDA\\lib\\site-packages\\sklearn\\cluster\\_kmeans.py:1332: UserWarning: KMeans is known to have a memory leak on Windows with MKL, when there are less chunks than available threads. You can avoid it by setting the environment variable OMP_NUM_THREADS=2.\n",
      "  warnings.warn(\n"
     ]
    },
    {
     "name": "stdout",
     "output_type": "stream",
     "text": [
      "[0.5212589967674504, 0.6963481945884472, 0.7581191889903789, 0.8048976287755765, 0.6329626627921736, 0.44419503163242824, 0.2994569721471647]\n"
     ]
    },
    {
     "name": "stderr",
     "output_type": "stream",
     "text": [
      "D:\\MMA\\ANACONDA\\lib\\site-packages\\sklearn\\cluster\\_kmeans.py:1332: UserWarning: KMeans is known to have a memory leak on Windows with MKL, when there are less chunks than available threads. You can avoid it by setting the environment variable OMP_NUM_THREADS=2.\n",
      "  warnings.warn(\n"
     ]
    },
    {
     "name": "stdout",
     "output_type": "stream",
     "text": [
      "[0.5212589967674504, 0.6963481945884472, 0.7581191889903789, 0.8048976287755765, 0.6329626627921736, 0.44419503163242824, 0.2994569721471647, 0.2977660634904018]\n"
     ]
    },
    {
     "data": {
      "image/png": "[encoded data removed]",
      "text/plain": [
       "<Figure size 432x288 with 1 Axes>"
      ]
     },
     "metadata": {
      "needs_background": "light"
     },
     "output_type": "display_data"
    }
   ],
   "source": [
    "#Scaled Dataframe Silhouette Score Plot\n",
    "silhouette_plt(scaled_df1)"
   ]
  },
  {
   "cell_type": "code",
   "execution_count": 17,
   "metadata": {},
   "outputs": [
    {
     "name": "stderr",
     "output_type": "stream",
     "text": [
      "D:\\MMA\\ANACONDA\\lib\\site-packages\\sklearn\\cluster\\_kmeans.py:1332: UserWarning: KMeans is known to have a memory leak on Windows with MKL, when there are less chunks than available threads. You can avoid it by setting the environment variable OMP_NUM_THREADS=2.\n",
      "  warnings.warn(\n"
     ]
    },
    {
     "data": {
      "text/html": [
       "<style>#sk-container-id-1 {color: black;background-color: white;}#sk-container-id-1 pre{padding: 0;}#sk-container-id-1 div.sk-toggleable {background-color: white;}#sk-container-id-1 label.sk-toggleable__label {cursor: pointer;display: block;width: 100%;margin-bottom: 0;padding: 0.3em;box-sizing: border-box;text-align: center;}#sk-container-id-1 label.sk-toggleable__label-arrow:before {content: \"▸\";float: left;margin-right: 0.25em;color: #696969;}#sk-container-id-1 label.sk-toggleable__label-arrow:hover:before {color: black;}#sk-container-id-1 div.sk-estimator:hover label.sk-toggleable__label-arrow:before {color: black;}#sk-container-id-1 div.sk-toggleable__content {max-height: 0;max-width: 0;overflow: hidden;text-align: left;background-color: #f0f8ff;}#sk-container-id-1 div.sk-toggleable__content pre {margin: 0.2em;color: black;border-radius: 0.25em;background-color: #f0f8ff;}#sk-container-id-1 input.sk-toggleable__control:checked~div.sk-toggleable__content {max-height: 200px;max-width: 100%;overflow: auto;}#sk-container-id-1 input.sk-toggleable__control:checked~label.sk-toggleable__label-arrow:before {content: \"▾\";}#sk-container-id-1 div.sk-estimator input.sk-toggleable__control:checked~label.sk-toggleable__label {background-color: #d4ebff;}#sk-container-id-1 div.sk-label input.sk-toggleable__control:checked~label.sk-toggleable__label {background-color: #d4ebff;}#sk-container-id-1 input.sk-hidden--visually {border: 0;clip: rect(1px 1px 1px 1px);clip: rect(1px, 1px, 1px, 1px);height: 1px;margin: -1px;overflow: hidden;padding: 0;position: absolute;width: 1px;}#sk-container-id-1 div.sk-estimator {font-family: monospace;background-color: #f0f8ff;border: 1px dotted black;border-radius: 0.25em;box-sizing: border-box;margin-bottom: 0.5em;}#sk-container-id-1 div.sk-estimator:hover {background-color: #d4ebff;}#sk-container-id-1 div.sk-parallel-item::after {content: \"\";width: 100%;border-bottom: 1px solid gray;flex-grow: 1;}#sk-container-id-1 div.sk-label:hover label.sk-toggleable__label {background-color: #d4ebff;}#sk-container-id-1 div.sk-serial::before {content: \"\";position: absolute;border-left: 1px solid gray;box-sizing: border-box;top: 0;bottom: 0;left: 50%;z-index: 0;}#sk-container-id-1 div.sk-serial {display: flex;flex-direction: column;align-items: center;background-color: white;padding-right: 0.2em;padding-left: 0.2em;position: relative;}#sk-container-id-1 div.sk-item {position: relative;z-index: 1;}#sk-container-id-1 div.sk-parallel {display: flex;align-items: stretch;justify-content: center;background-color: white;position: relative;}#sk-container-id-1 div.sk-item::before, #sk-container-id-1 div.sk-parallel-item::before {content: \"\";position: absolute;border-left: 1px solid gray;box-sizing: border-box;top: 0;bottom: 0;left: 50%;z-index: -1;}#sk-container-id-1 div.sk-parallel-item {display: flex;flex-direction: column;z-index: 1;position: relative;background-color: white;}#sk-container-id-1 div.sk-parallel-item:first-child::after {align-self: flex-end;width: 50%;}#sk-container-id-1 div.sk-parallel-item:last-child::after {align-self: flex-start;width: 50%;}#sk-container-id-1 div.sk-parallel-item:only-child::after {width: 0;}#sk-container-id-1 div.sk-dashed-wrapped {border: 1px dashed gray;margin: 0 0.4em 0.5em 0.4em;box-sizing: border-box;padding-bottom: 0.4em;background-color: white;}#sk-container-id-1 div.sk-label label {font-family: monospace;font-weight: bold;display: inline-block;line-height: 1.2em;}#sk-container-id-1 div.sk-label-container {text-align: center;}#sk-container-id-1 div.sk-container {/* jupyter's `normalize.less` sets `[hidden] { display: none; }` but bootstrap.min.css set `[hidden] { display: none !important; }` so we also need the `!important` here to be able to override the default hidden behavior on the sphinx rendered scikit-learn.org. See: https://github.com/scikit-learn/scikit-learn/issues/21755 */display: inline-block !important;position: relative;}#sk-container-id-1 div.sk-text-repr-fallback {display: none;}</style><div id=\"sk-container-id-1\" class=\"sk-top-container\"><div class=\"sk-text-repr-fallback\"><pre>KMeans(n_clusters=5, random_state=42)</pre><b>In a Jupyter environment, please rerun this cell to show the HTML representation or trust the notebook. <br />On GitHub, the HTML representation is unable to render, please try loading this page with nbviewer.org.</b></div><div class=\"sk-container\" hidden><div class=\"sk-item\"><div class=\"sk-estimator sk-toggleable\"><input class=\"sk-toggleable__control sk-hidden--visually\" id=\"sk-estimator-id-1\" type=\"checkbox\" checked><label for=\"sk-estimator-id-1\" class=\"sk-toggleable__label sk-toggleable__label-arrow\">KMeans</label><div class=\"sk-toggleable__content\"><pre>KMeans(n_clusters=5, random_state=42)</pre></div></div></div></div></div>"
      ],
      "text/plain": [
       "KMeans(n_clusters=5, random_state=42)"
      ]
     },
     "execution_count": 17,
     "metadata": {},
     "output_type": "execute_result"
    }
   ],
   "source": [
    "#Applying K means and performing clustering\n",
    "#Use Clusters as 5 on the basis of Elblow method\n",
    "kmeans_scaled = KMeans(init='k-means++', n_clusters=5, random_state=42)\n",
    "kmeans_scaled.fit(scaled_df1)"
   ]
  },
  {
   "cell_type": "code",
   "execution_count": 18,
   "metadata": {},
   "outputs": [
    {
     "data": {
      "text/plain": [
       "0.8048976287755765"
      ]
     },
     "execution_count": 18,
     "metadata": {},
     "output_type": "execute_result"
    }
   ],
   "source": [
    "#Evaluation - Silhouette Score\n",
    "silhouette_score(scaled_df1, kmeans_scaled.labels_)"
   ]
  },
  {
   "cell_type": "code",
   "execution_count": 19,
   "metadata": {},
   "outputs": [],
   "source": [
    "#Predict the clusters for the dataset\n",
    "y = kmeans_scaled.predict(scaled_df1)"
   ]
  },
  {
   "cell_type": "code",
   "execution_count": 20,
   "metadata": {},
   "outputs": [
    {
     "name": "stdout",
     "output_type": "stream",
     "text": [
      "\n",
      "Cluster 0:\n"
     ]
    },
    {
     "ename": "ValueError",
     "evalue": "Expected 2D array, got 1D array instead:\narray=[-1.09  0.83 -0.75  0.63].\nReshape your data either using array.reshape(-1, 1) if your data has a single feature or array.reshape(1, -1) if it contains a single sample.",
     "output_type": "error",
     "traceback": [
      "\u001b[1;31m---------------------------------------------------------------------------\u001b[0m",
      "\u001b[1;31mValueError\u001b[0m                                Traceback (most recent call last)",
      "Input \u001b[1;32mIn [20]\u001b[0m, in \u001b[0;36m<cell line: 2>\u001b[1;34m()\u001b[0m\n\u001b[0;32m      2\u001b[0m \u001b[38;5;28;01mfor\u001b[39;00m label \u001b[38;5;129;01min\u001b[39;00m \u001b[38;5;28mset\u001b[39m(kmeans_scaled\u001b[38;5;241m.\u001b[39mlabels_):\n\u001b[0;32m      3\u001b[0m     \u001b[38;5;28mprint\u001b[39m(\u001b[38;5;124m'\u001b[39m\u001b[38;5;130;01m\\n\u001b[39;00m\u001b[38;5;124mCluster \u001b[39m\u001b[38;5;132;01m{}\u001b[39;00m\u001b[38;5;124m:\u001b[39m\u001b[38;5;124m'\u001b[39m\u001b[38;5;241m.\u001b[39mformat(label))\n\u001b[1;32m----> 4\u001b[0m     \u001b[38;5;28mprint\u001b[39m(\u001b[43mscaler\u001b[49m\u001b[38;5;241;43m.\u001b[39;49m\u001b[43minverse_transform\u001b[49m\u001b[43m(\u001b[49m\u001b[43mscaled_df1\u001b[49m\u001b[43m[\u001b[49m\u001b[43mkmeans_scaled\u001b[49m\u001b[38;5;241;43m.\u001b[39;49m\u001b[43mlabels_\u001b[49m\u001b[38;5;241;43m==\u001b[39;49m\u001b[43mlabel\u001b[49m\u001b[43m]\u001b[49m\u001b[38;5;241;43m.\u001b[39;49m\u001b[43mmean\u001b[49m\u001b[43m(\u001b[49m\u001b[43m)\u001b[49m\u001b[43m)\u001b[49m)\n",
      "File \u001b[1;32mD:\\MMA\\ANACONDA\\lib\\site-packages\\sklearn\\preprocessing\\_data.py:1017\u001b[0m, in \u001b[0;36mStandardScaler.inverse_transform\u001b[1;34m(self, X, copy)\u001b[0m\n\u001b[0;32m   1014\u001b[0m check_is_fitted(\u001b[38;5;28mself\u001b[39m)\n\u001b[0;32m   1016\u001b[0m copy \u001b[38;5;241m=\u001b[39m copy \u001b[38;5;28;01mif\u001b[39;00m copy \u001b[38;5;129;01mis\u001b[39;00m \u001b[38;5;129;01mnot\u001b[39;00m \u001b[38;5;28;01mNone\u001b[39;00m \u001b[38;5;28;01melse\u001b[39;00m \u001b[38;5;28mself\u001b[39m\u001b[38;5;241m.\u001b[39mcopy\n\u001b[1;32m-> 1017\u001b[0m X \u001b[38;5;241m=\u001b[39m \u001b[43mcheck_array\u001b[49m\u001b[43m(\u001b[49m\n\u001b[0;32m   1018\u001b[0m \u001b[43m    \u001b[49m\u001b[43mX\u001b[49m\u001b[43m,\u001b[49m\n\u001b[0;32m   1019\u001b[0m \u001b[43m    \u001b[49m\u001b[43maccept_sparse\u001b[49m\u001b[38;5;241;43m=\u001b[39;49m\u001b[38;5;124;43m\"\u001b[39;49m\u001b[38;5;124;43mcsr\u001b[39;49m\u001b[38;5;124;43m\"\u001b[39;49m\u001b[43m,\u001b[49m\n\u001b[0;32m   1020\u001b[0m \u001b[43m    \u001b[49m\u001b[43mcopy\u001b[49m\u001b[38;5;241;43m=\u001b[39;49m\u001b[43mcopy\u001b[49m\u001b[43m,\u001b[49m\n\u001b[0;32m   1021\u001b[0m \u001b[43m    \u001b[49m\u001b[43mdtype\u001b[49m\u001b[38;5;241;43m=\u001b[39;49m\u001b[43mFLOAT_DTYPES\u001b[49m\u001b[43m,\u001b[49m\n\u001b[0;32m   1022\u001b[0m \u001b[43m    \u001b[49m\u001b[43mforce_all_finite\u001b[49m\u001b[38;5;241;43m=\u001b[39;49m\u001b[38;5;124;43m\"\u001b[39;49m\u001b[38;5;124;43mallow-nan\u001b[39;49m\u001b[38;5;124;43m\"\u001b[39;49m\u001b[43m,\u001b[49m\n\u001b[0;32m   1023\u001b[0m \u001b[43m\u001b[49m\u001b[43m)\u001b[49m\n\u001b[0;32m   1025\u001b[0m \u001b[38;5;28;01mif\u001b[39;00m sparse\u001b[38;5;241m.\u001b[39missparse(X):\n\u001b[0;32m   1026\u001b[0m     \u001b[38;5;28;01mif\u001b[39;00m \u001b[38;5;28mself\u001b[39m\u001b[38;5;241m.\u001b[39mwith_mean:\n",
      "File \u001b[1;32mD:\\MMA\\ANACONDA\\lib\\site-packages\\sklearn\\utils\\validation.py:879\u001b[0m, in \u001b[0;36mcheck_array\u001b[1;34m(array, accept_sparse, accept_large_sparse, dtype, order, copy, force_all_finite, ensure_2d, allow_nd, ensure_min_samples, ensure_min_features, estimator, input_name)\u001b[0m\n\u001b[0;32m    877\u001b[0m     \u001b[38;5;66;03m# If input is 1D raise error\u001b[39;00m\n\u001b[0;32m    878\u001b[0m     \u001b[38;5;28;01mif\u001b[39;00m array\u001b[38;5;241m.\u001b[39mndim \u001b[38;5;241m==\u001b[39m \u001b[38;5;241m1\u001b[39m:\n\u001b[1;32m--> 879\u001b[0m         \u001b[38;5;28;01mraise\u001b[39;00m \u001b[38;5;167;01mValueError\u001b[39;00m(\n\u001b[0;32m    880\u001b[0m             \u001b[38;5;124m\"\u001b[39m\u001b[38;5;124mExpected 2D array, got 1D array instead:\u001b[39m\u001b[38;5;130;01m\\n\u001b[39;00m\u001b[38;5;124marray=\u001b[39m\u001b[38;5;132;01m{}\u001b[39;00m\u001b[38;5;124m.\u001b[39m\u001b[38;5;130;01m\\n\u001b[39;00m\u001b[38;5;124m\"\u001b[39m\n\u001b[0;32m    881\u001b[0m             \u001b[38;5;124m\"\u001b[39m\u001b[38;5;124mReshape your data either using array.reshape(-1, 1) if \u001b[39m\u001b[38;5;124m\"\u001b[39m\n\u001b[0;32m    882\u001b[0m             \u001b[38;5;124m\"\u001b[39m\u001b[38;5;124myour data has a single feature or array.reshape(1, -1) \u001b[39m\u001b[38;5;124m\"\u001b[39m\n\u001b[0;32m    883\u001b[0m             \u001b[38;5;124m\"\u001b[39m\u001b[38;5;124mif it contains a single sample.\u001b[39m\u001b[38;5;124m\"\u001b[39m\u001b[38;5;241m.\u001b[39mformat(array)\n\u001b[0;32m    884\u001b[0m         )\n\u001b[0;32m    886\u001b[0m \u001b[38;5;28;01mif\u001b[39;00m dtype_numeric \u001b[38;5;129;01mand\u001b[39;00m array\u001b[38;5;241m.\u001b[39mdtype\u001b[38;5;241m.\u001b[39mkind \u001b[38;5;129;01min\u001b[39;00m \u001b[38;5;124m\"\u001b[39m\u001b[38;5;124mUSV\u001b[39m\u001b[38;5;124m\"\u001b[39m:\n\u001b[0;32m    887\u001b[0m     \u001b[38;5;28;01mraise\u001b[39;00m \u001b[38;5;167;01mValueError\u001b[39;00m(\n\u001b[0;32m    888\u001b[0m         \u001b[38;5;124m\"\u001b[39m\u001b[38;5;124mdtype=\u001b[39m\u001b[38;5;124m'\u001b[39m\u001b[38;5;124mnumeric\u001b[39m\u001b[38;5;124m'\u001b[39m\u001b[38;5;124m is not compatible with arrays of bytes/strings.\u001b[39m\u001b[38;5;124m\"\u001b[39m\n\u001b[0;32m    889\u001b[0m         \u001b[38;5;124m\"\u001b[39m\u001b[38;5;124mConvert your data to numeric values explicitly instead.\u001b[39m\u001b[38;5;124m\"\u001b[39m\n\u001b[0;32m    890\u001b[0m     )\n",
      "\u001b[1;31mValueError\u001b[0m: Expected 2D array, got 1D array instead:\narray=[-1.09  0.83 -0.75  0.63].\nReshape your data either using array.reshape(-1, 1) if your data has a single feature or array.reshape(1, -1) if it contains a single sample."
     ]
    }
   ],
   "source": [
    "#Print the mean for each feature of the cluster\n",
    "for label in set(kmeans_scaled.labels_):\n",
    "    print('\\nCluster {}:'.format(label))\n",
    "    print(scaler.inverse_transform(scaled_df1[kmeans_scaled.labels_==label].mean()))"
   ]
  },
  {
   "cell_type": "markdown",
   "metadata": {
    "id": "ihVtYBWg1NM6"
   },
   "source": [
    "## 1.2: Clustering Algorithm #2 - DBSCAN"
   ]
  },
  {
   "cell_type": "code",
   "execution_count": null,
   "metadata": {
    "id": "Pu2xugQj1Mci"
   },
   "outputs": [],
   "source": [
    "#Initialize the algorithm and run the FIT method\n",
    "db_scan = DBSCAN(eps=0.3, min_samples=3)\n",
    "db_scan.fit(scaled_df1)"
   ]
  },
  {
   "cell_type": "code",
   "execution_count": null,
   "metadata": {},
   "outputs": [],
   "source": [
    "#Fund the silhouette score for the DBSCAN algo\n",
    "silhouette_score(scaled_df1, db_scan.labels_)"
   ]
  },
  {
   "cell_type": "code",
   "execution_count": null,
   "metadata": {},
   "outputs": [],
   "source": [
    "#Testing the plot for interpretetion purpose\n",
    "plt.figure();\n",
    "\n",
    "unique_labels = set(db_scan.labels_)\n",
    "colors = [plt.cm.Spectral(each) for each in np.linspace(0, 1, len(unique_labels))];\n",
    "\n",
    "for k in unique_labels:\n",
    "    if k == -1:        # Black used for noise.\n",
    "        col = [0, 0, 0, 1]\n",
    "    else:\n",
    "        col = colors[k]\n",
    "\n",
    "    xy = scaled_df1[db_scan.labels_ == k]\n",
    "    plt.plot(xy.iloc[:, 1], xy.iloc[:, 2], 'o', markerfacecolor=tuple(col), markeredgecolor='k', markersize=10);\n",
    "\n",
    "    \n",
    "plt.title('');\n",
    "plt.title(\"DBSCAN (n_clusters = {:d}, black = outliers)\".format(len(unique_labels)));"
   ]
  },
  {
   "cell_type": "code",
   "execution_count": null,
   "metadata": {
    "scrolled": true
   },
   "outputs": [],
   "source": [
    "for label in set(db_scan.labels_):\n",
    "    print('\\nCluster {}:'.format(label))\n",
    "    print(scaler.inverse_transform(scaled_df1[db_scan.labels_==label].mean()))"
   ]
  },
  {
   "cell_type": "code",
   "execution_count": null,
   "metadata": {},
   "outputs": [],
   "source": [
    "df_outliers = pd.DataFrame(columns=scaled_df1.columns,data =  scaler.inverse_transform(scaled_df1[db_scan.labels_==-1]))"
   ]
  },
  {
   "cell_type": "code",
   "execution_count": null,
   "metadata": {},
   "outputs": [],
   "source": [
    "df_outliers"
   ]
  },
  {
   "cell_type": "code",
   "execution_count": null,
   "metadata": {
    "scrolled": true
   },
   "outputs": [],
   "source": [
    "#Elbow method\n",
    "silhouettes = {}\n",
    "\n",
    "epss = np.arange(0.1, 0.9, 0.1)\n",
    "minss = np.arange(3, 10, 1)\n",
    "\n",
    "ss = np.zeros((len(epss), len(minss)))\n",
    "\n",
    "for i, eps in enumerate(epss):\n",
    "    for j, mins in enumerate(minss):\n",
    "        db = DBSCAN(eps=eps, min_samples=mins).fit(scaled_df1)\n",
    "        if len(set(db.labels_)) == 1:\n",
    "            ss[i, j] = -1\n",
    "        else:\n",
    "            ss[i, j] = silhouette_score(scaled_df1, db.labels_, metric='euclidean')\n",
    "    \n",
    "\n",
    "plt.figure();\n",
    "for i in range(len(minss)):\n",
    "    plt.plot(epss, ss[:, i], label=\"MinPts = {}\".format(minss[i]));\n",
    "plt.title('DBSCAN, Elbow Method')\n",
    "plt.xlabel(\"Eps\");\n",
    "plt.ylabel(\"Silhouette\");\n",
    "plt.legend();"
   ]
  },
  {
   "cell_type": "code",
   "execution_count": null,
   "metadata": {},
   "outputs": [],
   "source": [
    "def do_and_plot_dbscan(X, eps, min_samples):\n",
    "    db = DBSCAN(eps=eps, min_samples=min_samples).fit(X)\n",
    "\n",
    "    unique_labels = set(db.labels_)\n",
    "    n_clusters = len(unique_labels) - 1\n",
    "    \n",
    "    if n_clusters <= 1:\n",
    "        #print('eps={}, min_samples={}, n_clusters <= 1. Returning.'.format(eps, min_samples))\n",
    "        #return\n",
    "        sil = -1\n",
    "    else:\n",
    "        sil = silhouette_score(X, db.labels_)\n",
    "    \n",
    "    print(\"eps={}, min_samples={}, n_clusters={}, sil={}\".format(eps, min_samples, n_clusters, sil))\n",
    "    \n",
    "    plt.figure();\n",
    "    \n",
    "    colors = [plt.cm.Spectral(each) for each in np.linspace(0, 1, len(unique_labels))];\n",
    "\n",
    "    for k in unique_labels:\n",
    "        if k == -1:        # Black used for noise.\n",
    "            col = [0, 0, 0, 1]\n",
    "        else:\n",
    "            col = colors[k]\n",
    "\n",
    "        xy = X[db.labels_ == k]\n",
    "        plt.plot(xy.iloc[:, 1], xy.iloc[:, 2], 'o', markerfacecolor=tuple(col), markeredgecolor='k', markersize=8);\n",
    "\n",
    "\n",
    "    plt.title('');\n",
    "    plt.title(\"DBSCAN (eps={}, min_samples={}): n_clusters = {:d}, sil={:.3f})\".format(eps, min_samples, n_clusters, sil));\n",
    "    plt.xlabel('Annual Income (K)');\n",
    "    plt.ylabel('Spending Score');\n",
    "    #plt.savefig('out/simple_dbscan_{}_{}.png'.format(eps, min_samples))\n",
    "    plt.show()\n",
    "\n",
    "\n",
    "do_and_plot_dbscan(scaled_df1, 0.3, 2)\n",
    "do_and_plot_dbscan(scaled_df1, 0.1, 3)\n",
    "do_and_plot_dbscan(scaled_df1, 0.3, 3)\n",
    "do_and_plot_dbscan(scaled_df1, 0.6, 3)\n",
    "do_and_plot_dbscan(scaled_df1, 0.6, 7)\n",
    "do_and_plot_dbscan(scaled_df1, 0.36, 3)"
   ]
  },
  {
   "cell_type": "code",
   "execution_count": null,
   "metadata": {},
   "outputs": [],
   "source": [
    "df_dbs = scaled_df1.copy()\n",
    "df_dbs['Cluster'] = db_scan.labels_"
   ]
  },
  {
   "cell_type": "code",
   "execution_count": null,
   "metadata": {},
   "outputs": [],
   "source": [
    "df_dbs"
   ]
  },
  {
   "cell_type": "markdown",
   "metadata": {
    "id": "6ySJIgNr1Sfy"
   },
   "source": [
    "## 1.3 Model Comparison"
   ]
  },
  {
   "cell_type": "markdown",
   "metadata": {},
   "source": [
    "**Quality of Results:** Both KMeans and DBSCAN algorithms show similar clustering quality in this case. Both of the algorithms have the optimal K as 5 and in terms of the cluster means, the results are similar.\n",
    "<p> However, KMeans algorithm was not able to detect the outliers and noise in the dataset. </p>\n",
    "<p> In DBSCAN, a specific cluster that had all the outliers were clustered into a separate cluster with the cluster Id '-1'. \n",
    "While analysing the outliers, there were a few instances that did not make sense, \n",
    "</p>\n",
    "\n",
    "**Ease of Use:** In this case, KMeans is easier to use, due to the comparable small dataset, all numeric values and easy package access. For DBSCAN, in addition to the value of K, the value of epsilon parameter that measures the local radius of the clusters had to be determined on the basis of intution and hyperparameter tuning.\n",
    "\n",
    "**Speed:** Both of these clustering algorithms are efficient and speedy, however, KMeans would be faster on especially larger data because it only supports Eucledian distance to find the clusters.\n",
    "\n",
    "**Interpretability:** - KMeans and DBSCAN produce similar results however, with the extended output about noise/outliers, interpretetion for DBSCAN becomes comparitively comprehensive and verbose to understand. As we know that for multi-dimentional dataset, the visualizations generated do not convey the right information, having a detailed cluster information helps in interpreting the algorithm easier and both KMeans as well as DBSCAN provide the information in a similar way.\n",
    "\n",
    "In conclusion, **DBSCAN** performs and produces better insights in this case due to the handling of noise and forming a cluster of outliers. This makes us **understand our data even more comprehensively and helps us wrangle our data even more efficiently**.\n",
    "\n",
    "P.S. - In the Lecture, we discussed how difficult it is to tune the DBSCAN Algorithm. Here in this example, we had to run the algo training on multiple eps and k values to find the right set of hyperparameters and then choose one. This approach is difficult with a large dataset unlike this one."
   ]
  },
  {
   "cell_type": "markdown",
   "metadata": {},
   "source": [
    "#### K means clustering summary\n",
    "\n",
    "| Cluster | Age | Income | Spending Score | Savings |\n",
    "| ------- | --- | ------ | -------------- | --------:|\n",
    "| **Cluster 3**   | 24 | 128,029.12 |0.90 |4,087.52 |\n",
    "| **Cluster 1**   | 33 | 105,265.81 |0.31 |14,962.78 |\n",
    "| **Cluster 2**   | 60 | 72,448.06 |0.77 |6,889.97 |\n",
    "| **Cluster 4**   | 86 | 119,944.04 |0.07 |14,808.68 |\n",
    "| **Cluster 0**   | 88 | 27,866.1 |0.33 |16,659.26 |"
   ]
  },
  {
   "cell_type": "markdown",
   "metadata": {},
   "source": [
    "#### DBSCAN clustering summary\n",
    "\n",
    "| Cluster | Age | Income | Spending Score | Savings |\n",
    "| ------- | --- | ------ | -------------- | --------:|\n",
    "| **Cluster 2**   | 24 | 127777.72 |0.90 |4217.29 |\n",
    "| **Cluster 4**   | 33 | 105356.33 |0.31 |14999.98 |\n",
    "| **Cluster 0**   | 60 | 72448.06 |0.77 |6889.97 |\n",
    "| **Cluster 3**   | 86 | 128,029.12 |0.07 |14514.91 |\n",
    "| **Cluster 1**   | 88 | 28043.73 |0.33 |16674.37 |"
   ]
  },
  {
   "cell_type": "markdown",
   "metadata": {
    "id": "MP2EAnCJ1Xta"
   },
   "source": [
    "## 1.4 Personas"
   ]
  },
  {
   "cell_type": "markdown",
   "metadata": {
    "id": "dVewu2TZ1XhK"
   },
   "source": [
    "> **Cluster - Young Entrepreneurs**\n",
    "<p>These are the Gen-Z entrepreneurs that are in their early 20s and have a passion for earning money as well as spending it lavishly. Their income is high (>120k, maybe MMA students graduating from Smith?), spending score is high(staying in Toronto Downtown) and have limited savings(well, lavish cars, expensive condos and Uncle Steve's high quality diamonds - won't let you save money). They believe in living their life without worrying about the future savings.</p>\n",
    "\n",
    "> **Cluster - The Family Person**\n",
    "<p>\n",
    "    These are the people who are in their early 30s and need to plan for their future, hence have a low spending score and comparitively high savings. These people would spend only on their necessities and have a bulk of their money towards investments, future planning (kids, their education, buying a house?). They have to think before spending money however would not hesitate to shell out money towards some leisure activities.\n",
    "    They would have spent money in buying diamonds from Uncle Steve\n",
    "</p>\n",
    "\n",
    "> **Cluster - Retiring Seniors**\n",
    "<p>\n",
    "    These are the set of customers that are going to retire soon. Their presence in the job market is diminishing and their primary source of income is their savings or pensions. They have a high spending score because they are retiring soon and would have planned expenses like buying a retirement home, planning emergency expenses like medical, family expenses etc. Their savings at this stage is quite low because of sudden expenses. They would have spent money in buying diamonds from Uncle Steve to gift them as their child's wedding present.\n",
    "</p>\n",
    "\n",
    "> **Cluster - The Forgotten Investors**\n",
    "<p>\n",
    "    These are the people who invested their money when they were young and forgot about it. The market kept on booming, their investments multiplied and compunded and now they are millionaires. They have a high monthly income, a very low spending score and a high amount of savings. They have the capability and aim to spend their money on their grand-children, have a positive impact on the society by donating their money and serve the community. They would have bought diamonds for their Grand-Children and are willing to invest in it more. (<b>Thought:</b> Are diamonds even worth investing? Something to research more on!)\n",
    "</p>\n",
    "\n",
    "> **Cluster - The Elderly**\n",
    "<p>\n",
    "   These are the people who have lived their entire life working hard, saving money, serving the Canadian economy, and now are trying to enjoy their life after retirement. However, they have a low source of income, through pensions, savings, community fundings and barely meet their needs. They have a significant spending score which is mainly for their survival. Rent, medications, grocery etc., all these are components form a major component of their spendings. They don't take part in any leisure activities, hence have a bit of savings.\n",
    "</p>"
   ]
  },
  {
   "cell_type": "markdown",
   "metadata": {
    "id": "DYwuYIgczYSv"
   },
   "source": [
    "# Question 2: Uncle Steve's Fine Foods"
   ]
  },
  {
   "cell_type": "markdown",
   "metadata": {
    "id": "4oCr-mTfNG-H"
   },
   "source": [
    "## Instructions\n",
    "\n",
    "Uncle Steve runs a small, local grocery store in Ontario. The store sells all the normal food staples (e.g., bread, milk, cheese, eggs, more cheese, fruits, vegatables, meat, fish, waffles, ice cream, pasta, cereals, drinks), personal care products (e.g., toothpaste, shampoo, hair goo), medicine, and cakes. There's even a little section with flowers and greeting cards! Normal people shop here, and buy normal things in the normal way.\n",
    "\n",
    "Business is OK but Uncle Steve wants more. He's thus on the hunt for customer insights. Given your success at the jewelry store, he has asked you to help him out. \n",
    "\n",
    "He has given you a few years' worth of customer transactions, i.e., sets of items that customers have purchased. You have applied an association rules learning algorithm (like Apriori) to the data, and the algorithm has generated a large set of association rules of the form `{X} -> {Y}`, where `{X}` and `{Y}` are item-sets.\n",
    "\n",
    "Now comes a thought experiment. For each of the following scenarios, state what one of the discovered association rules might be that would meet the stated condition. (Just make up the rule, using your human experience and intuition.) Also, describe whether and why each rule would be considered interesting or uninteresting for Uncle Steve (i.e., is this insight new to him? Would he be able to use it somehow?).\n",
    "\n",
    "Keep each answer to 600 characters or less (including spaces).\n",
    "\n",
    "To get those brain juices going, an example condition and answer is provided below:\n",
    "\n",
    "> Condition: A rule that has high support.\n",
    "\n",
    "> Answer: The rule `{milk} -> {bread}` would have high support, since milk and bread are household staples and a high percentage of transactions would include both `{milk}` and `{bread}`. Uncle Steve would likely not find this rule interesting, because these items are so common, he would have surely already noticed that so many transactions contain them.\n",
    "\n",
    "**Marking**\n",
    "\n",
    "Your responses will be marked as follows:\n",
    "\n",
    "- *Correctness*. Rule meets the specificed condition, and seems plausible in an Ontario grocery store.\n",
    "- *Justification of interestness*. Response clearly describes whether and why the rule would be considered interesting to Uncle Steve.\n",
    "\n",
    "**Tips**\n",
    "\n",
    "- There is no actual data for this question. This question is just a thought exercise. You need to use your intuition, creatitivty, and understanding of the real world. I assume you are familiar with what happens inside of normal grocery stores. We are not using actual data and you do not need to create/generate/find any data. I repeat: there is no data for this question.\n",
    "- The reason this question is having you do a thought experiment, rather than writing and running code to find actual association rules on an actual dataset, is because writing code to find association rules is actually pretty easy. But using your brain to come up with rules that meet certain criteria, on the other hand, is a true test of whether you understand how the algorithm works, what support and confidence mean, and the applicability of rules. The question uses the grocery store context because most, if not all, students should be familiar from personal experience.\n",
    "\n"
   ]
  },
  {
   "cell_type": "markdown",
   "metadata": {},
   "source": [
    "- Grocery\n",
    "    - Baking\n",
    "    - Dairy\n",
    "    - Drinks\n",
    "    - Produce\n",
    "    - Fresh/Frozen\n",
    "    - Delicacy\n",
    "- Health and Beauty\n",
    "- Pharmacy"
   ]
  },
  {
   "cell_type": "markdown",
   "metadata": {},
   "source": [
    "> I work part-time at Walmart and have seen more number of items available (well, obviously, it's Walmart) but out of the list that is provided at Uncle Steve's Grocery Shop, the following rules and their answers are evident to me in my day-to-day life"
   ]
  },
  {
   "cell_type": "markdown",
   "metadata": {
    "id": "3YQsOb6CzYVq"
   },
   "source": [
    "## 2.1: A rule that might have high support and high confidence. "
   ]
  },
  {
   "cell_type": "markdown",
   "metadata": {
    "id": "DzXu1IvK-MEg"
   },
   "source": [
    "***Thought:*** *Anything that has high chance of being together in the transaction, both frequency and chance/probability*\n",
    "\n",
    "**Answer:** The rule {Greeting Cards} -> {Cakes} would have high support and confidence, since greeting cards and cakes are usually bought as a gift for occassions. Most of the transactions that contain Greeting cards would have a high chance of having Cakes in the cart too. \n",
    "<p>Uncle Steve would not probably find it interesting because these kind of transactions or items do sell frequently. So this would not generate meaningful insights about the transactional data for the store.</p>"
   ]
  },
  {
   "cell_type": "markdown",
   "metadata": {
    "id": "VNIrAgJk-L4l"
   },
   "source": [
    "## 2.2: A rule that might have reasonably high support but low confidence."
   ]
  },
  {
   "cell_type": "markdown",
   "metadata": {
    "id": "svdzYW3S-LvF"
   },
   "source": [
    "***Thought:*** *We need to find some correlated items that are bought together, but have a low chance of being bought together.*\n",
    "\n",
    "**Answer:** The rule {Hair Color} -> {Shaving cream} would have high support and low confidence. There is a chance that the people going for monthly grocery shopping might buy hair color and shaving cream togeter. But not necessary when people buy the {Hair Color} will buy {Shaving cream} with a high confidence.\n",
    "<p>This rule may be interesting to Uncle Steve, since the high support may put two items on the transactions together but they are not bought with high confidence. The store could be re-arranged to handle these personal care products efficiently and in such a way that they get sold together more often</p>"
   ]
  },
  {
   "cell_type": "markdown",
   "metadata": {
    "id": "loe--LMz-Ll8"
   },
   "source": [
    "## 2.3: A rule that might have low support and low confidence."
   ]
  },
  {
   "cell_type": "markdown",
   "metadata": {
    "id": "HdyOB5fe-Zgy"
   },
   "source": [
    "***Thought:*** *We need to find some correlated items that are usually not bought together, and have a low chance too.*\n",
    "\n",
    "**Answer:** The rule {Drinks} -> {Shampoo, Body wash, Hair goo} would have very low support since these aren't really bought together. \n",
    "<p>The chance that people buying Drinks would buy Shampoo/Body Wash/Hair goo fairly low as these are 2 totally different categories. There could be some cases where on a monthly grocery shopping, these items would be bough together, however, there is a very low chance that the people who are buying drinks would also buy Shampoo/Body Wash/Hair Goo in the same transaction.\n",
    "Uncle Steve would find this intuitive as the people who usually buy groceries on a monthly basis might have this combination but the chance is fairly low and he would not have noticed this. </p>"
   ]
  },
  {
   "cell_type": "markdown",
   "metadata": {
    "id": "St2eI3We-ZYs"
   },
   "source": [
    "## 2.4: A rule that might have low support and high confidence."
   ]
  },
  {
   "cell_type": "markdown",
   "metadata": {
    "id": "LcdZc-B1-fE7"
   },
   "source": [
    "***Thought:*** *We need to find some correlated items that are usually not bought together, and have a high chance of being bought together.*\n",
    "\n",
    "**Answer:** The rule {Medicine/Tylenol} -> {Vegetables, Fruits} would have low support but high confidence because when someone is not well, they usually are adviced to eat healthy (everyone should eat healthy though). So, these items would could be bought together(low support) but there is a high chance that if there is Medicine in a transaction, fruits and vegetables would be present in the transaction too.\n",
    "<p>Fruits and vegetables are healthy and aid in faster recovery of a disease, however, this is subjective. To a model that is generating rules and Uncle Steve, this rule would be interesting as this is not so common transaction and would be providing critical insights. </p>"
   ]
  },
  {
   "cell_type": "markdown",
   "metadata": {
    "id": "B_IHoz7f2yIV"
   },
   "source": [
    "# Question 3: Uncle Steve's Credit Union"
   ]
  },
  {
   "cell_type": "markdown",
   "metadata": {
    "id": "WhERdkp_zYBY"
   },
   "source": [
    "## Instructions\n",
    "\n",
    "Uncle Steve has recently opened a new credit union in Kingston, named *Uncle Steve's Credit Union*. He plans to disrupt the local market by instaneously providing credit to customers.\n",
    "\n",
    "The first step in Uncle Steve's master plan is to create a model to predict whether an application has *good risk* or *bad risk*. He has outsourced the creation of this model to you.\n",
    "\n",
    "You are to create a classification model to predict whether a loan applicant has good risk or bad risk. You will use data  that Uncle Steve bought from another credit union (somewhere in Europe, he thinks?) that has around 6000 instances and a number of demographics features (e.g., `Sex`, `DateOfBirth`, `Married`), loan details (e.g., `Amount`, `Purpose`), credit history (e.g., number of loans), as well as an indicator (called `BadCredit` in the dataset) as to whether that person was a bad risk.\n",
    "\n",
    "\n",
    "**Your tasks**\n",
    "\n",
    "To examine the effects of the various ML stages, you are to create the model several times, each time adding more sophistication, and measuring how much the model improved (or not). In particular, you will:\n",
    "\n",
    "0. Split the data in training and testing. Don't touch the testing data again, for any reason, until step 5. We are pretending that the testing data is \"future, unseen data that our model won't see until production.\" I'm serious, don't touch it. I'm watching you!\n",
    "1. Build a baseline model - no feature engineering, no feature selection, no hyperparameter tuning (just use the default settings), nothing fancy. (You may need to do some basic feature transformations, e.g., encoding of categorical features, or dropping of features you do not think will help or do not want to deal with yet.) Measure the performance using K-fold cross validation (recommended: [`sklearn.model_selection.cross_val_score`](https://scikit-learn.org/stable/modules/generated/sklearn.model_selection.cross_val_score.html#sklearn.model_selection.cross_val_score)) on the training data. Use at least 5 folds, but more are better. Choose a [`scoring` parameter](https://scikit-learn.org/stable/modules/model_evaluation.html#scoring-parameter) (i.e., classification metric) that you feel is appropriate for this task. Don't use accuracy. Print the mean score of your model.\n",
    "2. Add a bit of feature engineering. The [`sklearn.preprocessing`](https://scikit-learn.org/stable/modules/classes.html#module-sklearn.preprocessing) module contains many useful transformations. Engineer at least three new features. They don't need to be especially ground-breaking or complicated. Dimensionality reduction techniques like [`sklearn.decomposition.PCA`](https://scikit-learn.org/stable/modules/generated/sklearn.decomposition.PCA.html) are fair game but not required. (If you do use dimensionality reduction techniques, it would only count as \"one\" new feature for the purposes of this assignment, even though I realize that PCA creates many new \"features\" (i.e., principal componentns).) Re-train your baseline model. Measure performance. Compare to step 1.\n",
    "3. Add feature selection. The [`sklearn.feature_selection`](https://scikit-learn.org/stable/modules/classes.html#module-sklearn.feature_selection) has some algorithms for you to choose from. After selecting features, re-train your model, measure performance, and compare to step 2.\n",
    "4. Add hyperparameter tuning. Make reasonable choices and try to find the best (or at least, better) hyperparameters for your estimator and/or transformers. It's probably a good idea to stop using `cross_val_score` at this point and start using [`sklearn.model_selection.GridSearchCV`](https://scikit-learn.org/stable/modules/generated/sklearn.model_selection.GridSearchCV.html#sklearn.model_selection.GridSearchCV) as it is specifically built for this purpose and is more convienient to use. Measure performance and compare to step 3.\n",
    "5. Finally, estimate how well your model will work in production. Use the testing data (our \"future, unseen data\") from step 0. Transform the data as appropriate (easy if you've built a pipeline, a little more difficult if not), use the model from step 4 to get predictions, and measure the performance. How well did we do? \n",
    "\n",
    "\n",
    "**Marking**\n",
    "\n",
    "Each part will be marked for:\n",
    "- *Correctness*. Code clearly and fully performs the task specified.\n",
    "- *Reproducibility*. Code is fully reproducible. I.e., you (and I) should be able to run this Notebook again and again, from top to bottom, and get the same results each and every time.\n",
    "- *Style*. Code is organized. All parts commented with clear reasoning and rationale. No old code laying around. Code easy to follow. \n",
    "\n",
    "\n",
    "**Tips**\n",
    "- The origins of the dataset are a bit of a mystery. Assume the data set is recent (circa 2021) and up-to-date. Assume that column names are correct and accurate.\n",
    "- You don't need to experiment with more than one algorithm/estimator. Just choose one (e.g., [`sklearn.tree.DecisionTreeClassifier`](https://scikit-learn.org/stable/modules/generated/sklearn.tree.DecisionTreeClassifier.html#sklearn.tree.DecisionTreeClassifier), [`sklearn.ensemble.RandomForestClassifier`](https://scikit-learn.org/stable/modules/generated/sklearn.ensemble.RandomForestClassifier.html#sklearn.ensemble.RandomForestClassifier), [`sklearn.linear_model.LogisticRegression`](https://scikit-learn.org/stable/modules/generated/sklearn.linear_model.LogisticRegression.html#sklearn.linear_model.LogisticRegression), [`sklearn.svm.LinearSVC`](https://scikit-learn.org/stable/modules/generated/sklearn.svm.LinearSVC.html#sklearn.svm.LinearSVC), whatever) and stick with it for this question. \n",
    "- There is no minimum accuracy/precision/recall for this question. I.e., your mark will not be based on how good your model is. Rather, you mark will be based on good your process is.\n",
    "- Watch out for data leakage and overfitting. In particular, be sure to `fit()` any estimators and transformers (collectively, *objects*) only to the training data, and then use the objects' `transform()` methods on both the training and testing data. [Data School](https://www.youtube.com/c/dataschool/featured) has a [helpful video](https://www.youtube.com/watch?v=g2XsZdwbCCs) about this. [Pipelines](https://www.youtube.com/watch?v=1Y6O9nCo0-I) are very helpful here and make your code shorter and more robust (at the expense of making it harder to understand), and I recommend using them, but they are not required for this assignment.\n",
    "- Create as many code cells as you need. In general, each cell should do one \"thing.\"\n",
    "-\tDon't print large volumes of output. E.g., don't do: `df.head(100)`\n",
    "\n",
    "\n",
    "\n",
    "\n",
    "## 3.0: Load data and split"
   ]
  },
  {
   "cell_type": "code",
   "execution_count": 70,
   "metadata": {},
   "outputs": [],
   "source": [
    "#Import necessary libraries\n",
    "import lightgbm as lgb\n",
    "from sklearn.metrics import f1_score\n",
    "from sklearn.pipeline import Pipeline, make_pipeline\n",
    "from sklearn.model_selection import cross_val_score\n",
    "import category_encoders as ce\n",
    "from sklearn.ensemble import RandomForestClassifier\n",
    "from xgboost import XGBClassifier\n",
    "from sklearn.compose import make_column_transformer, ColumnTransformer\n",
    "from sklearn.preprocessing import StandardScaler\n",
    "from sklearn.linear_model import LogisticRegression\n",
    "from sklearn.metrics import classification_report"
   ]
  },
  {
   "cell_type": "code",
   "execution_count": 33,
   "metadata": {
    "colab": {
     "base_uri": "https://localhost:8080/"
    },
    "id": "X6b_BM0Nz9sF",
    "outputId": "aa77f2e3-c6a2-4b80-bfcf-75fb641234ea"
   },
   "outputs": [
    {
     "name": "stdout",
     "output_type": "stream",
     "text": [
      "<class 'pandas.core.frame.DataFrame'>\n",
      "RangeIndex: 6000 entries, 0 to 5999\n",
      "Data columns (total 17 columns):\n",
      " #   Column             Non-Null Count  Dtype \n",
      "---  ------             --------------  ----- \n",
      " 0   UserID             6000 non-null   object\n",
      " 1   Sex                6000 non-null   object\n",
      " 2   PreviousDefault    6000 non-null   int64 \n",
      " 3   FirstName          6000 non-null   object\n",
      " 4   LastName           6000 non-null   object\n",
      " 5   NumberPets         6000 non-null   int64 \n",
      " 6   PreviousAccounts   6000 non-null   int64 \n",
      " 7   ResidenceDuration  6000 non-null   int64 \n",
      " 8   Street             6000 non-null   object\n",
      " 9   LicensePlate       6000 non-null   object\n",
      " 10  BadCredit          6000 non-null   int64 \n",
      " 11  Amount             6000 non-null   int64 \n",
      " 12  Married            6000 non-null   int64 \n",
      " 13  Duration           6000 non-null   int64 \n",
      " 14  City               6000 non-null   object\n",
      " 15  Purpose            6000 non-null   object\n",
      " 16  DateOfBirth        6000 non-null   object\n",
      "dtypes: int64(8), object(9)\n",
      "memory usage: 797.0+ KB\n"
     ]
    }
   ],
   "source": [
    "# DO NOT MODIFY THIS CELL\n",
    "\n",
    "# First, we'll read the provided labeled training data\n",
    "df3 = pd.read_csv(\"https://drive.google.com/uc?export=download&id=1wOhyCnvGeY4jplxI8lZ-bbYN3zLtickf\")\n",
    "df3.info()\n",
    "\n",
    "from sklearn.model_selection import train_test_split\n",
    "\n",
    "X = df3.drop('BadCredit', axis=1) #.select_dtypes(['number'])\n",
    "y = df3['BadCredit']\n",
    "\n",
    "X_train, X_test, y_train, y_test = train_test_split(X, y, test_size=0.2, random_state=42)"
   ]
  },
  {
   "cell_type": "markdown",
   "metadata": {
    "id": "sdiKKblCo53S"
   },
   "source": [
    "## 3.1: Baseline model"
   ]
  },
  {
   "cell_type": "code",
   "execution_count": 34,
   "metadata": {
    "id": "mSumAZUAo9O6"
   },
   "outputs": [
    {
     "data": {
      "text/html": [
       "<div>\n",
       "<style scoped>\n",
       "    .dataframe tbody tr th:only-of-type {\n",
       "        vertical-align: middle;\n",
       "    }\n",
       "\n",
       "    .dataframe tbody tr th {\n",
       "        vertical-align: top;\n",
       "    }\n",
       "\n",
       "    .dataframe thead th {\n",
       "        text-align: right;\n",
       "    }\n",
       "</style>\n",
       "<table border=\"1\" class=\"dataframe\">\n",
       "  <thead>\n",
       "    <tr style=\"text-align: right;\">\n",
       "      <th></th>\n",
       "      <th>UserID</th>\n",
       "      <th>Sex</th>\n",
       "      <th>PreviousDefault</th>\n",
       "      <th>FirstName</th>\n",
       "      <th>LastName</th>\n",
       "      <th>NumberPets</th>\n",
       "      <th>PreviousAccounts</th>\n",
       "      <th>ResidenceDuration</th>\n",
       "      <th>Street</th>\n",
       "      <th>LicensePlate</th>\n",
       "      <th>BadCredit</th>\n",
       "      <th>Amount</th>\n",
       "      <th>Married</th>\n",
       "      <th>Duration</th>\n",
       "      <th>City</th>\n",
       "      <th>Purpose</th>\n",
       "      <th>DateOfBirth</th>\n",
       "    </tr>\n",
       "  </thead>\n",
       "  <tbody>\n",
       "    <tr>\n",
       "      <th>0</th>\n",
       "      <td>218-84-8180</td>\n",
       "      <td>F</td>\n",
       "      <td>0</td>\n",
       "      <td>Debra</td>\n",
       "      <td>Schaefer</td>\n",
       "      <td>2</td>\n",
       "      <td>3</td>\n",
       "      <td>1</td>\n",
       "      <td>503 Linda Locks</td>\n",
       "      <td>395C</td>\n",
       "      <td>0</td>\n",
       "      <td>3907</td>\n",
       "      <td>0</td>\n",
       "      <td>24</td>\n",
       "      <td>Port Keith</td>\n",
       "      <td>Vacation</td>\n",
       "      <td>1964-04-07</td>\n",
       "    </tr>\n",
       "    <tr>\n",
       "      <th>1</th>\n",
       "      <td>395-49-9764</td>\n",
       "      <td>M</td>\n",
       "      <td>0</td>\n",
       "      <td>Derek</td>\n",
       "      <td>Wright</td>\n",
       "      <td>0</td>\n",
       "      <td>1</td>\n",
       "      <td>1</td>\n",
       "      <td>969 Cox Dam Suite 101</td>\n",
       "      <td>UFZ 691</td>\n",
       "      <td>0</td>\n",
       "      <td>3235</td>\n",
       "      <td>0</td>\n",
       "      <td>12</td>\n",
       "      <td>Lake Debra</td>\n",
       "      <td>NewCar</td>\n",
       "      <td>1978-06-02</td>\n",
       "    </tr>\n",
       "    <tr>\n",
       "      <th>2</th>\n",
       "      <td>892-81-4890</td>\n",
       "      <td>F</td>\n",
       "      <td>0</td>\n",
       "      <td>Shannon</td>\n",
       "      <td>Smith</td>\n",
       "      <td>0</td>\n",
       "      <td>0</td>\n",
       "      <td>2</td>\n",
       "      <td>845 Kelly Estate</td>\n",
       "      <td>48A•281</td>\n",
       "      <td>0</td>\n",
       "      <td>3108</td>\n",
       "      <td>1</td>\n",
       "      <td>30</td>\n",
       "      <td>North Judithbury</td>\n",
       "      <td>NewCar</td>\n",
       "      <td>1972-03-18</td>\n",
       "    </tr>\n",
       "    <tr>\n",
       "      <th>3</th>\n",
       "      <td>081-11-7963</td>\n",
       "      <td>F</td>\n",
       "      <td>0</td>\n",
       "      <td>Christina</td>\n",
       "      <td>Brooks</td>\n",
       "      <td>2</td>\n",
       "      <td>1</td>\n",
       "      <td>3</td>\n",
       "      <td>809 Burns Creek</td>\n",
       "      <td>30Z J39</td>\n",
       "      <td>1</td>\n",
       "      <td>4014</td>\n",
       "      <td>1</td>\n",
       "      <td>36</td>\n",
       "      <td>Lake Chad</td>\n",
       "      <td>Other</td>\n",
       "      <td>1985-02-26</td>\n",
       "    </tr>\n",
       "    <tr>\n",
       "      <th>4</th>\n",
       "      <td>347-03-9639</td>\n",
       "      <td>M</td>\n",
       "      <td>0</td>\n",
       "      <td>Ralph</td>\n",
       "      <td>Anderson</td>\n",
       "      <td>1</td>\n",
       "      <td>5</td>\n",
       "      <td>1</td>\n",
       "      <td>248 Brandt Plains Apt. 465</td>\n",
       "      <td>71-Q331</td>\n",
       "      <td>1</td>\n",
       "      <td>3823</td>\n",
       "      <td>0</td>\n",
       "      <td>18</td>\n",
       "      <td>North Judithbury</td>\n",
       "      <td>Vacation</td>\n",
       "      <td>1983-08-08</td>\n",
       "    </tr>\n",
       "  </tbody>\n",
       "</table>\n",
       "</div>"
      ],
      "text/plain": [
       "        UserID Sex  PreviousDefault  FirstName  LastName  NumberPets  \\\n",
       "0  218-84-8180   F                0      Debra  Schaefer           2   \n",
       "1  395-49-9764   M                0      Derek    Wright           0   \n",
       "2  892-81-4890   F                0    Shannon     Smith           0   \n",
       "3  081-11-7963   F                0  Christina    Brooks           2   \n",
       "4  347-03-9639   M                0      Ralph  Anderson           1   \n",
       "\n",
       "   PreviousAccounts  ResidenceDuration                      Street  \\\n",
       "0                 3                  1             503 Linda Locks   \n",
       "1                 1                  1       969 Cox Dam Suite 101   \n",
       "2                 0                  2            845 Kelly Estate   \n",
       "3                 1                  3             809 Burns Creek   \n",
       "4                 5                  1  248 Brandt Plains Apt. 465   \n",
       "\n",
       "  LicensePlate  BadCredit  Amount  Married  Duration              City  \\\n",
       "0         395C          0    3907        0        24        Port Keith   \n",
       "1      UFZ 691          0    3235        0        12        Lake Debra   \n",
       "2      48A•281          0    3108        1        30  North Judithbury   \n",
       "3      30Z J39          1    4014        1        36         Lake Chad   \n",
       "4      71-Q331          1    3823        0        18  North Judithbury   \n",
       "\n",
       "    Purpose DateOfBirth  \n",
       "0  Vacation  1964-04-07  \n",
       "1    NewCar  1978-06-02  \n",
       "2    NewCar  1972-03-18  \n",
       "3     Other  1985-02-26  \n",
       "4  Vacation  1983-08-08  "
      ]
     },
     "execution_count": 34,
     "metadata": {},
     "output_type": "execute_result"
    }
   ],
   "source": [
    "#Data Exploration\n",
    "df3.head()"
   ]
  },
  {
   "cell_type": "code",
   "execution_count": 35,
   "metadata": {},
   "outputs": [
    {
     "data": {
      "text/plain": [
       "(6000, 17)"
      ]
     },
     "execution_count": 35,
     "metadata": {},
     "output_type": "execute_result"
    }
   ],
   "source": [
    "#Check the dimentions of the dataset\n",
    "df3.shape"
   ]
  },
  {
   "cell_type": "code",
   "execution_count": 36,
   "metadata": {},
   "outputs": [
    {
     "data": {
      "text/plain": [
       "array(['Vacation', 'NewCar', 'Other', 'UsedCar', 'Household', 'Business',\n",
       "       'Education', 'Repair'], dtype=object)"
      ]
     },
     "execution_count": 36,
     "metadata": {},
     "output_type": "execute_result"
    }
   ],
   "source": [
    "#Check Unique Values for Feature\n",
    "df3.Purpose.unique()"
   ]
  },
  {
   "cell_type": "code",
   "execution_count": 37,
   "metadata": {},
   "outputs": [
    {
     "data": {
      "text/plain": [
       "array(['Port Keith', 'Lake Debra', 'North Judithbury', 'Lake Chad',\n",
       "       'East Jill', 'Ericmouth', 'East Jessetown', 'Ramirezstad',\n",
       "       'Lisatown', 'New Roberttown', 'North Noahstad', 'Robinsonshire',\n",
       "       'New Kellystad', 'New Jessica', 'West Michael', 'Jacquelineland',\n",
       "       'Lake Roberto', 'Cassandraton', 'Herrerafurt', 'Port Jesseville'],\n",
       "      dtype=object)"
      ]
     },
     "execution_count": 37,
     "metadata": {},
     "output_type": "execute_result"
    }
   ],
   "source": [
    "#Check Unique Values for Feature\n",
    "df3.City.unique()"
   ]
  },
  {
   "cell_type": "code",
   "execution_count": 38,
   "metadata": {},
   "outputs": [
    {
     "data": {
      "text/plain": [
       "<AxesSubplot:>"
      ]
     },
     "execution_count": 38,
     "metadata": {},
     "output_type": "execute_result"
    },
    {
     "data": {
      "image/png": "[encoded data removed]",
      "text/plain": [
       "<Figure size 1080x1080 with 2 Axes>"
      ]
     },
     "metadata": {
      "needs_background": "light"
     },
     "output_type": "display_data"
    }
   ],
   "source": [
    "#Correlation plot\n",
    "plt.figure(figsize = (15,15))\n",
    "corr_matrix = X_train.corr()\n",
    "mask = np.triu(np.ones_like(corr_matrix.iloc[:-1,:-1], dtype=bool))\n",
    "cmap = sns.diverging_palette(230, 20, as_cmap=True)\n",
    "sns.heatmap(corr_matrix.iloc[:-1,:-1],mask=mask, cmap=cmap, vmax=1, center=0, annot = True,\n",
    "            square=True, linewidths=.5, cbar_kws={\"shrink\": .82})"
   ]
  },
  {
   "cell_type": "code",
   "execution_count": 39,
   "metadata": {},
   "outputs": [
    {
     "data": {
      "text/plain": [
       "array([[<AxesSubplot:title={'center':'PreviousDefault'}>,\n",
       "        <AxesSubplot:title={'center':'NumberPets'}>,\n",
       "        <AxesSubplot:title={'center':'PreviousAccounts'}>],\n",
       "       [<AxesSubplot:title={'center':'ResidenceDuration'}>,\n",
       "        <AxesSubplot:title={'center':'Amount'}>,\n",
       "        <AxesSubplot:title={'center':'Married'}>],\n",
       "       [<AxesSubplot:title={'center':'Duration'}>, <AxesSubplot:>,\n",
       "        <AxesSubplot:>]], dtype=object)"
      ]
     },
     "execution_count": 39,
     "metadata": {},
     "output_type": "execute_result"
    },
    {
     "data": {
      "image/png": "[encoded data removed]",
      "text/plain": [
       "<Figure size 1080x720 with 9 Axes>"
      ]
     },
     "metadata": {
      "needs_background": "light"
     },
     "output_type": "display_data"
    }
   ],
   "source": [
    "#Histogram to see the distribution of Dataset\n",
    "X_train.hist(bins=30, figsize=(15, 10))"
   ]
  },
  {
   "cell_type": "code",
   "execution_count": 40,
   "metadata": {},
   "outputs": [],
   "source": [
    "#Copy Training dataset\n",
    "X_train_cp = X_train.copy()"
   ]
  },
  {
   "cell_type": "code",
   "execution_count": 41,
   "metadata": {},
   "outputs": [],
   "source": [
    "#Drop unwanted columns\n",
    "X_train_cp = X_train_cp.drop(['UserID','FirstName','LastName','Street','LicensePlate', 'DateOfBirth'], axis=1)"
   ]
  },
  {
   "cell_type": "code",
   "execution_count": 42,
   "metadata": {},
   "outputs": [],
   "source": [
    "#Segregate Features\n",
    "drop_features = ['UserID', 'DateOfBirth', 'FirstName', \"LastName\", 'Street', 'LicensePlate']\n",
    "numeric_feat = ['NumberPets','Amount','Duration','ResidenceDuration','PreviousAccounts']\n",
    "categorical_feat = ['Sex','PreviousDefault','Married','City','Purpose']"
   ]
  },
  {
   "cell_type": "markdown",
   "metadata": {},
   "source": [
    "#### Explore Pycaret Base Model"
   ]
  },
  {
   "cell_type": "code",
   "execution_count": 43,
   "metadata": {},
   "outputs": [],
   "source": [
    "#Prepare Dataset for PyCaret\n",
    "df3_pyc = df3.copy()\n",
    "df3_pyc.drop(columns = drop_features, inplace = True)\n",
    "df3_pyc.drop(columns = 'BadCredit', inplace = True)\n",
    "numeric_feat = ['NumberPets','Amount','Duration','ResidenceDuration','PreviousAccounts']\n",
    "categorical_feat = ['Sex','PreviousDefault','Married','City','Purpose']\n",
    "df3_pyc['BadCredit'] = y"
   ]
  },
  {
   "cell_type": "code",
   "execution_count": 44,
   "metadata": {
    "scrolled": true
   },
   "outputs": [
    {
     "data": {
      "text/html": [
       "<style type=\"text/css\">\n",
       "#T_bed0d_row44_col1 {\n",
       "  background-color: lightgreen;\n",
       "}\n",
       "</style>\n",
       "<table id=\"T_bed0d_\">\n",
       "  <thead>\n",
       "    <tr>\n",
       "      <th class=\"blank level0\" >&nbsp;</th>\n",
       "      <th class=\"col_heading level0 col0\" >Description</th>\n",
       "      <th class=\"col_heading level0 col1\" >Value</th>\n",
       "    </tr>\n",
       "  </thead>\n",
       "  <tbody>\n",
       "    <tr>\n",
       "      <th id=\"T_bed0d_level0_row0\" class=\"row_heading level0 row0\" >0</th>\n",
       "      <td id=\"T_bed0d_row0_col0\" class=\"data row0 col0\" >session_id</td>\n",
       "      <td id=\"T_bed0d_row0_col1\" class=\"data row0 col1\" >8690</td>\n",
       "    </tr>\n",
       "    <tr>\n",
       "      <th id=\"T_bed0d_level0_row1\" class=\"row_heading level0 row1\" >1</th>\n",
       "      <td id=\"T_bed0d_row1_col0\" class=\"data row1 col0\" >Target</td>\n",
       "      <td id=\"T_bed0d_row1_col1\" class=\"data row1 col1\" >BadCredit</td>\n",
       "    </tr>\n",
       "    <tr>\n",
       "      <th id=\"T_bed0d_level0_row2\" class=\"row_heading level0 row2\" >2</th>\n",
       "      <td id=\"T_bed0d_row2_col0\" class=\"data row2 col0\" >Target Type</td>\n",
       "      <td id=\"T_bed0d_row2_col1\" class=\"data row2 col1\" >Binary</td>\n",
       "    </tr>\n",
       "    <tr>\n",
       "      <th id=\"T_bed0d_level0_row3\" class=\"row_heading level0 row3\" >3</th>\n",
       "      <td id=\"T_bed0d_row3_col0\" class=\"data row3 col0\" >Label Encoded</td>\n",
       "      <td id=\"T_bed0d_row3_col1\" class=\"data row3 col1\" >None</td>\n",
       "    </tr>\n",
       "    <tr>\n",
       "      <th id=\"T_bed0d_level0_row4\" class=\"row_heading level0 row4\" >4</th>\n",
       "      <td id=\"T_bed0d_row4_col0\" class=\"data row4 col0\" >Original Data</td>\n",
       "      <td id=\"T_bed0d_row4_col1\" class=\"data row4 col1\" >(6000, 11)</td>\n",
       "    </tr>\n",
       "    <tr>\n",
       "      <th id=\"T_bed0d_level0_row5\" class=\"row_heading level0 row5\" >5</th>\n",
       "      <td id=\"T_bed0d_row5_col0\" class=\"data row5 col0\" >Missing Values</td>\n",
       "      <td id=\"T_bed0d_row5_col1\" class=\"data row5 col1\" >False</td>\n",
       "    </tr>\n",
       "    <tr>\n",
       "      <th id=\"T_bed0d_level0_row6\" class=\"row_heading level0 row6\" >6</th>\n",
       "      <td id=\"T_bed0d_row6_col0\" class=\"data row6 col0\" >Numeric Features</td>\n",
       "      <td id=\"T_bed0d_row6_col1\" class=\"data row6 col1\" >5</td>\n",
       "    </tr>\n",
       "    <tr>\n",
       "      <th id=\"T_bed0d_level0_row7\" class=\"row_heading level0 row7\" >7</th>\n",
       "      <td id=\"T_bed0d_row7_col0\" class=\"data row7 col0\" >Categorical Features</td>\n",
       "      <td id=\"T_bed0d_row7_col1\" class=\"data row7 col1\" >5</td>\n",
       "    </tr>\n",
       "    <tr>\n",
       "      <th id=\"T_bed0d_level0_row8\" class=\"row_heading level0 row8\" >8</th>\n",
       "      <td id=\"T_bed0d_row8_col0\" class=\"data row8 col0\" >Ordinal Features</td>\n",
       "      <td id=\"T_bed0d_row8_col1\" class=\"data row8 col1\" >False</td>\n",
       "    </tr>\n",
       "    <tr>\n",
       "      <th id=\"T_bed0d_level0_row9\" class=\"row_heading level0 row9\" >9</th>\n",
       "      <td id=\"T_bed0d_row9_col0\" class=\"data row9 col0\" >High Cardinality Features</td>\n",
       "      <td id=\"T_bed0d_row9_col1\" class=\"data row9 col1\" >False</td>\n",
       "    </tr>\n",
       "    <tr>\n",
       "      <th id=\"T_bed0d_level0_row10\" class=\"row_heading level0 row10\" >10</th>\n",
       "      <td id=\"T_bed0d_row10_col0\" class=\"data row10 col0\" >High Cardinality Method</td>\n",
       "      <td id=\"T_bed0d_row10_col1\" class=\"data row10 col1\" >None</td>\n",
       "    </tr>\n",
       "    <tr>\n",
       "      <th id=\"T_bed0d_level0_row11\" class=\"row_heading level0 row11\" >11</th>\n",
       "      <td id=\"T_bed0d_row11_col0\" class=\"data row11 col0\" >Transformed Train Set</td>\n",
       "      <td id=\"T_bed0d_row11_col1\" class=\"data row11 col1\" >(4199, 36)</td>\n",
       "    </tr>\n",
       "    <tr>\n",
       "      <th id=\"T_bed0d_level0_row12\" class=\"row_heading level0 row12\" >12</th>\n",
       "      <td id=\"T_bed0d_row12_col0\" class=\"data row12 col0\" >Transformed Test Set</td>\n",
       "      <td id=\"T_bed0d_row12_col1\" class=\"data row12 col1\" >(1801, 36)</td>\n",
       "    </tr>\n",
       "    <tr>\n",
       "      <th id=\"T_bed0d_level0_row13\" class=\"row_heading level0 row13\" >13</th>\n",
       "      <td id=\"T_bed0d_row13_col0\" class=\"data row13 col0\" >Shuffle Train-Test</td>\n",
       "      <td id=\"T_bed0d_row13_col1\" class=\"data row13 col1\" >True</td>\n",
       "    </tr>\n",
       "    <tr>\n",
       "      <th id=\"T_bed0d_level0_row14\" class=\"row_heading level0 row14\" >14</th>\n",
       "      <td id=\"T_bed0d_row14_col0\" class=\"data row14 col0\" >Stratify Train-Test</td>\n",
       "      <td id=\"T_bed0d_row14_col1\" class=\"data row14 col1\" >False</td>\n",
       "    </tr>\n",
       "    <tr>\n",
       "      <th id=\"T_bed0d_level0_row15\" class=\"row_heading level0 row15\" >15</th>\n",
       "      <td id=\"T_bed0d_row15_col0\" class=\"data row15 col0\" >Fold Generator</td>\n",
       "      <td id=\"T_bed0d_row15_col1\" class=\"data row15 col1\" >StratifiedKFold</td>\n",
       "    </tr>\n",
       "    <tr>\n",
       "      <th id=\"T_bed0d_level0_row16\" class=\"row_heading level0 row16\" >16</th>\n",
       "      <td id=\"T_bed0d_row16_col0\" class=\"data row16 col0\" >Fold Number</td>\n",
       "      <td id=\"T_bed0d_row16_col1\" class=\"data row16 col1\" >10</td>\n",
       "    </tr>\n",
       "    <tr>\n",
       "      <th id=\"T_bed0d_level0_row17\" class=\"row_heading level0 row17\" >17</th>\n",
       "      <td id=\"T_bed0d_row17_col0\" class=\"data row17 col0\" >CPU Jobs</td>\n",
       "      <td id=\"T_bed0d_row17_col1\" class=\"data row17 col1\" >-1</td>\n",
       "    </tr>\n",
       "    <tr>\n",
       "      <th id=\"T_bed0d_level0_row18\" class=\"row_heading level0 row18\" >18</th>\n",
       "      <td id=\"T_bed0d_row18_col0\" class=\"data row18 col0\" >Use GPU</td>\n",
       "      <td id=\"T_bed0d_row18_col1\" class=\"data row18 col1\" >False</td>\n",
       "    </tr>\n",
       "    <tr>\n",
       "      <th id=\"T_bed0d_level0_row19\" class=\"row_heading level0 row19\" >19</th>\n",
       "      <td id=\"T_bed0d_row19_col0\" class=\"data row19 col0\" >Log Experiment</td>\n",
       "      <td id=\"T_bed0d_row19_col1\" class=\"data row19 col1\" >False</td>\n",
       "    </tr>\n",
       "    <tr>\n",
       "      <th id=\"T_bed0d_level0_row20\" class=\"row_heading level0 row20\" >20</th>\n",
       "      <td id=\"T_bed0d_row20_col0\" class=\"data row20 col0\" >Experiment Name</td>\n",
       "      <td id=\"T_bed0d_row20_col1\" class=\"data row20 col1\" >clf-default-name</td>\n",
       "    </tr>\n",
       "    <tr>\n",
       "      <th id=\"T_bed0d_level0_row21\" class=\"row_heading level0 row21\" >21</th>\n",
       "      <td id=\"T_bed0d_row21_col0\" class=\"data row21 col0\" >USI</td>\n",
       "      <td id=\"T_bed0d_row21_col1\" class=\"data row21 col1\" >b36f</td>\n",
       "    </tr>\n",
       "    <tr>\n",
       "      <th id=\"T_bed0d_level0_row22\" class=\"row_heading level0 row22\" >22</th>\n",
       "      <td id=\"T_bed0d_row22_col0\" class=\"data row22 col0\" >Imputation Type</td>\n",
       "      <td id=\"T_bed0d_row22_col1\" class=\"data row22 col1\" >simple</td>\n",
       "    </tr>\n",
       "    <tr>\n",
       "      <th id=\"T_bed0d_level0_row23\" class=\"row_heading level0 row23\" >23</th>\n",
       "      <td id=\"T_bed0d_row23_col0\" class=\"data row23 col0\" >Iterative Imputation Iteration</td>\n",
       "      <td id=\"T_bed0d_row23_col1\" class=\"data row23 col1\" >None</td>\n",
       "    </tr>\n",
       "    <tr>\n",
       "      <th id=\"T_bed0d_level0_row24\" class=\"row_heading level0 row24\" >24</th>\n",
       "      <td id=\"T_bed0d_row24_col0\" class=\"data row24 col0\" >Numeric Imputer</td>\n",
       "      <td id=\"T_bed0d_row24_col1\" class=\"data row24 col1\" >mean</td>\n",
       "    </tr>\n",
       "    <tr>\n",
       "      <th id=\"T_bed0d_level0_row25\" class=\"row_heading level0 row25\" >25</th>\n",
       "      <td id=\"T_bed0d_row25_col0\" class=\"data row25 col0\" >Iterative Imputation Numeric Model</td>\n",
       "      <td id=\"T_bed0d_row25_col1\" class=\"data row25 col1\" >None</td>\n",
       "    </tr>\n",
       "    <tr>\n",
       "      <th id=\"T_bed0d_level0_row26\" class=\"row_heading level0 row26\" >26</th>\n",
       "      <td id=\"T_bed0d_row26_col0\" class=\"data row26 col0\" >Categorical Imputer</td>\n",
       "      <td id=\"T_bed0d_row26_col1\" class=\"data row26 col1\" >constant</td>\n",
       "    </tr>\n",
       "    <tr>\n",
       "      <th id=\"T_bed0d_level0_row27\" class=\"row_heading level0 row27\" >27</th>\n",
       "      <td id=\"T_bed0d_row27_col0\" class=\"data row27 col0\" >Iterative Imputation Categorical Model</td>\n",
       "      <td id=\"T_bed0d_row27_col1\" class=\"data row27 col1\" >None</td>\n",
       "    </tr>\n",
       "    <tr>\n",
       "      <th id=\"T_bed0d_level0_row28\" class=\"row_heading level0 row28\" >28</th>\n",
       "      <td id=\"T_bed0d_row28_col0\" class=\"data row28 col0\" >Unknown Categoricals Handling</td>\n",
       "      <td id=\"T_bed0d_row28_col1\" class=\"data row28 col1\" >least_frequent</td>\n",
       "    </tr>\n",
       "    <tr>\n",
       "      <th id=\"T_bed0d_level0_row29\" class=\"row_heading level0 row29\" >29</th>\n",
       "      <td id=\"T_bed0d_row29_col0\" class=\"data row29 col0\" >Normalize</td>\n",
       "      <td id=\"T_bed0d_row29_col1\" class=\"data row29 col1\" >False</td>\n",
       "    </tr>\n",
       "    <tr>\n",
       "      <th id=\"T_bed0d_level0_row30\" class=\"row_heading level0 row30\" >30</th>\n",
       "      <td id=\"T_bed0d_row30_col0\" class=\"data row30 col0\" >Normalize Method</td>\n",
       "      <td id=\"T_bed0d_row30_col1\" class=\"data row30 col1\" >None</td>\n",
       "    </tr>\n",
       "    <tr>\n",
       "      <th id=\"T_bed0d_level0_row31\" class=\"row_heading level0 row31\" >31</th>\n",
       "      <td id=\"T_bed0d_row31_col0\" class=\"data row31 col0\" >Transformation</td>\n",
       "      <td id=\"T_bed0d_row31_col1\" class=\"data row31 col1\" >False</td>\n",
       "    </tr>\n",
       "    <tr>\n",
       "      <th id=\"T_bed0d_level0_row32\" class=\"row_heading level0 row32\" >32</th>\n",
       "      <td id=\"T_bed0d_row32_col0\" class=\"data row32 col0\" >Transformation Method</td>\n",
       "      <td id=\"T_bed0d_row32_col1\" class=\"data row32 col1\" >None</td>\n",
       "    </tr>\n",
       "    <tr>\n",
       "      <th id=\"T_bed0d_level0_row33\" class=\"row_heading level0 row33\" >33</th>\n",
       "      <td id=\"T_bed0d_row33_col0\" class=\"data row33 col0\" >PCA</td>\n",
       "      <td id=\"T_bed0d_row33_col1\" class=\"data row33 col1\" >False</td>\n",
       "    </tr>\n",
       "    <tr>\n",
       "      <th id=\"T_bed0d_level0_row34\" class=\"row_heading level0 row34\" >34</th>\n",
       "      <td id=\"T_bed0d_row34_col0\" class=\"data row34 col0\" >PCA Method</td>\n",
       "      <td id=\"T_bed0d_row34_col1\" class=\"data row34 col1\" >None</td>\n",
       "    </tr>\n",
       "    <tr>\n",
       "      <th id=\"T_bed0d_level0_row35\" class=\"row_heading level0 row35\" >35</th>\n",
       "      <td id=\"T_bed0d_row35_col0\" class=\"data row35 col0\" >PCA Components</td>\n",
       "      <td id=\"T_bed0d_row35_col1\" class=\"data row35 col1\" >None</td>\n",
       "    </tr>\n",
       "    <tr>\n",
       "      <th id=\"T_bed0d_level0_row36\" class=\"row_heading level0 row36\" >36</th>\n",
       "      <td id=\"T_bed0d_row36_col0\" class=\"data row36 col0\" >Ignore Low Variance</td>\n",
       "      <td id=\"T_bed0d_row36_col1\" class=\"data row36 col1\" >False</td>\n",
       "    </tr>\n",
       "    <tr>\n",
       "      <th id=\"T_bed0d_level0_row37\" class=\"row_heading level0 row37\" >37</th>\n",
       "      <td id=\"T_bed0d_row37_col0\" class=\"data row37 col0\" >Combine Rare Levels</td>\n",
       "      <td id=\"T_bed0d_row37_col1\" class=\"data row37 col1\" >False</td>\n",
       "    </tr>\n",
       "    <tr>\n",
       "      <th id=\"T_bed0d_level0_row38\" class=\"row_heading level0 row38\" >38</th>\n",
       "      <td id=\"T_bed0d_row38_col0\" class=\"data row38 col0\" >Rare Level Threshold</td>\n",
       "      <td id=\"T_bed0d_row38_col1\" class=\"data row38 col1\" >None</td>\n",
       "    </tr>\n",
       "    <tr>\n",
       "      <th id=\"T_bed0d_level0_row39\" class=\"row_heading level0 row39\" >39</th>\n",
       "      <td id=\"T_bed0d_row39_col0\" class=\"data row39 col0\" >Numeric Binning</td>\n",
       "      <td id=\"T_bed0d_row39_col1\" class=\"data row39 col1\" >False</td>\n",
       "    </tr>\n",
       "    <tr>\n",
       "      <th id=\"T_bed0d_level0_row40\" class=\"row_heading level0 row40\" >40</th>\n",
       "      <td id=\"T_bed0d_row40_col0\" class=\"data row40 col0\" >Remove Outliers</td>\n",
       "      <td id=\"T_bed0d_row40_col1\" class=\"data row40 col1\" >False</td>\n",
       "    </tr>\n",
       "    <tr>\n",
       "      <th id=\"T_bed0d_level0_row41\" class=\"row_heading level0 row41\" >41</th>\n",
       "      <td id=\"T_bed0d_row41_col0\" class=\"data row41 col0\" >Outliers Threshold</td>\n",
       "      <td id=\"T_bed0d_row41_col1\" class=\"data row41 col1\" >None</td>\n",
       "    </tr>\n",
       "    <tr>\n",
       "      <th id=\"T_bed0d_level0_row42\" class=\"row_heading level0 row42\" >42</th>\n",
       "      <td id=\"T_bed0d_row42_col0\" class=\"data row42 col0\" >Remove Multicollinearity</td>\n",
       "      <td id=\"T_bed0d_row42_col1\" class=\"data row42 col1\" >False</td>\n",
       "    </tr>\n",
       "    <tr>\n",
       "      <th id=\"T_bed0d_level0_row43\" class=\"row_heading level0 row43\" >43</th>\n",
       "      <td id=\"T_bed0d_row43_col0\" class=\"data row43 col0\" >Multicollinearity Threshold</td>\n",
       "      <td id=\"T_bed0d_row43_col1\" class=\"data row43 col1\" >None</td>\n",
       "    </tr>\n",
       "    <tr>\n",
       "      <th id=\"T_bed0d_level0_row44\" class=\"row_heading level0 row44\" >44</th>\n",
       "      <td id=\"T_bed0d_row44_col0\" class=\"data row44 col0\" >Remove Perfect Collinearity</td>\n",
       "      <td id=\"T_bed0d_row44_col1\" class=\"data row44 col1\" >True</td>\n",
       "    </tr>\n",
       "    <tr>\n",
       "      <th id=\"T_bed0d_level0_row45\" class=\"row_heading level0 row45\" >45</th>\n",
       "      <td id=\"T_bed0d_row45_col0\" class=\"data row45 col0\" >Clustering</td>\n",
       "      <td id=\"T_bed0d_row45_col1\" class=\"data row45 col1\" >False</td>\n",
       "    </tr>\n",
       "    <tr>\n",
       "      <th id=\"T_bed0d_level0_row46\" class=\"row_heading level0 row46\" >46</th>\n",
       "      <td id=\"T_bed0d_row46_col0\" class=\"data row46 col0\" >Clustering Iteration</td>\n",
       "      <td id=\"T_bed0d_row46_col1\" class=\"data row46 col1\" >None</td>\n",
       "    </tr>\n",
       "    <tr>\n",
       "      <th id=\"T_bed0d_level0_row47\" class=\"row_heading level0 row47\" >47</th>\n",
       "      <td id=\"T_bed0d_row47_col0\" class=\"data row47 col0\" >Polynomial Features</td>\n",
       "      <td id=\"T_bed0d_row47_col1\" class=\"data row47 col1\" >False</td>\n",
       "    </tr>\n",
       "    <tr>\n",
       "      <th id=\"T_bed0d_level0_row48\" class=\"row_heading level0 row48\" >48</th>\n",
       "      <td id=\"T_bed0d_row48_col0\" class=\"data row48 col0\" >Polynomial Degree</td>\n",
       "      <td id=\"T_bed0d_row48_col1\" class=\"data row48 col1\" >None</td>\n",
       "    </tr>\n",
       "    <tr>\n",
       "      <th id=\"T_bed0d_level0_row49\" class=\"row_heading level0 row49\" >49</th>\n",
       "      <td id=\"T_bed0d_row49_col0\" class=\"data row49 col0\" >Trignometry Features</td>\n",
       "      <td id=\"T_bed0d_row49_col1\" class=\"data row49 col1\" >False</td>\n",
       "    </tr>\n",
       "    <tr>\n",
       "      <th id=\"T_bed0d_level0_row50\" class=\"row_heading level0 row50\" >50</th>\n",
       "      <td id=\"T_bed0d_row50_col0\" class=\"data row50 col0\" >Polynomial Threshold</td>\n",
       "      <td id=\"T_bed0d_row50_col1\" class=\"data row50 col1\" >None</td>\n",
       "    </tr>\n",
       "    <tr>\n",
       "      <th id=\"T_bed0d_level0_row51\" class=\"row_heading level0 row51\" >51</th>\n",
       "      <td id=\"T_bed0d_row51_col0\" class=\"data row51 col0\" >Group Features</td>\n",
       "      <td id=\"T_bed0d_row51_col1\" class=\"data row51 col1\" >False</td>\n",
       "    </tr>\n",
       "    <tr>\n",
       "      <th id=\"T_bed0d_level0_row52\" class=\"row_heading level0 row52\" >52</th>\n",
       "      <td id=\"T_bed0d_row52_col0\" class=\"data row52 col0\" >Feature Selection</td>\n",
       "      <td id=\"T_bed0d_row52_col1\" class=\"data row52 col1\" >False</td>\n",
       "    </tr>\n",
       "    <tr>\n",
       "      <th id=\"T_bed0d_level0_row53\" class=\"row_heading level0 row53\" >53</th>\n",
       "      <td id=\"T_bed0d_row53_col0\" class=\"data row53 col0\" >Feature Selection Method</td>\n",
       "      <td id=\"T_bed0d_row53_col1\" class=\"data row53 col1\" >classic</td>\n",
       "    </tr>\n",
       "    <tr>\n",
       "      <th id=\"T_bed0d_level0_row54\" class=\"row_heading level0 row54\" >54</th>\n",
       "      <td id=\"T_bed0d_row54_col0\" class=\"data row54 col0\" >Features Selection Threshold</td>\n",
       "      <td id=\"T_bed0d_row54_col1\" class=\"data row54 col1\" >None</td>\n",
       "    </tr>\n",
       "    <tr>\n",
       "      <th id=\"T_bed0d_level0_row55\" class=\"row_heading level0 row55\" >55</th>\n",
       "      <td id=\"T_bed0d_row55_col0\" class=\"data row55 col0\" >Feature Interaction</td>\n",
       "      <td id=\"T_bed0d_row55_col1\" class=\"data row55 col1\" >False</td>\n",
       "    </tr>\n",
       "    <tr>\n",
       "      <th id=\"T_bed0d_level0_row56\" class=\"row_heading level0 row56\" >56</th>\n",
       "      <td id=\"T_bed0d_row56_col0\" class=\"data row56 col0\" >Feature Ratio</td>\n",
       "      <td id=\"T_bed0d_row56_col1\" class=\"data row56 col1\" >False</td>\n",
       "    </tr>\n",
       "    <tr>\n",
       "      <th id=\"T_bed0d_level0_row57\" class=\"row_heading level0 row57\" >57</th>\n",
       "      <td id=\"T_bed0d_row57_col0\" class=\"data row57 col0\" >Interaction Threshold</td>\n",
       "      <td id=\"T_bed0d_row57_col1\" class=\"data row57 col1\" >None</td>\n",
       "    </tr>\n",
       "    <tr>\n",
       "      <th id=\"T_bed0d_level0_row58\" class=\"row_heading level0 row58\" >58</th>\n",
       "      <td id=\"T_bed0d_row58_col0\" class=\"data row58 col0\" >Fix Imbalance</td>\n",
       "      <td id=\"T_bed0d_row58_col1\" class=\"data row58 col1\" >False</td>\n",
       "    </tr>\n",
       "    <tr>\n",
       "      <th id=\"T_bed0d_level0_row59\" class=\"row_heading level0 row59\" >59</th>\n",
       "      <td id=\"T_bed0d_row59_col0\" class=\"data row59 col0\" >Fix Imbalance Method</td>\n",
       "      <td id=\"T_bed0d_row59_col1\" class=\"data row59 col1\" >SMOTE</td>\n",
       "    </tr>\n",
       "  </tbody>\n",
       "</table>\n"
      ],
      "text/plain": [
       "<pandas.io.formats.style.Styler at 0x144609d50>"
      ]
     },
     "metadata": {},
     "output_type": "display_data"
    }
   ],
   "source": [
    "#Run Classification Dataset Setup for PyCaret\n",
    "from pycaret.classification import *\n",
    "clasf = setup(data = df3_pyc, target = 'BadCredit', numeric_features=numeric_feat)"
   ]
  },
  {
   "cell_type": "code",
   "execution_count": 45,
   "metadata": {
    "scrolled": true
   },
   "outputs": [
    {
     "data": {
      "text/html": [
       "<style type=\"text/css\">\n",
       "#T_636ff_ th {\n",
       "  text-align: left;\n",
       "}\n",
       "#T_636ff_row0_col0, #T_636ff_row0_col3, #T_636ff_row0_col4, #T_636ff_row0_col5, #T_636ff_row0_col6, #T_636ff_row1_col0, #T_636ff_row1_col1, #T_636ff_row1_col2, #T_636ff_row1_col3, #T_636ff_row1_col4, #T_636ff_row1_col5, #T_636ff_row1_col6, #T_636ff_row1_col7, #T_636ff_row2_col0, #T_636ff_row2_col1, #T_636ff_row2_col2, #T_636ff_row2_col3, #T_636ff_row2_col5, #T_636ff_row2_col6, #T_636ff_row2_col7, #T_636ff_row3_col0, #T_636ff_row3_col1, #T_636ff_row3_col2, #T_636ff_row3_col3, #T_636ff_row3_col4, #T_636ff_row3_col5, #T_636ff_row3_col6, #T_636ff_row3_col7, #T_636ff_row4_col0, #T_636ff_row4_col1, #T_636ff_row4_col2, #T_636ff_row4_col3, #T_636ff_row4_col4, #T_636ff_row4_col5, #T_636ff_row4_col6, #T_636ff_row4_col7, #T_636ff_row5_col0, #T_636ff_row5_col1, #T_636ff_row5_col2, #T_636ff_row5_col3, #T_636ff_row5_col4, #T_636ff_row5_col5, #T_636ff_row5_col6, #T_636ff_row5_col7, #T_636ff_row6_col0, #T_636ff_row6_col1, #T_636ff_row6_col2, #T_636ff_row6_col3, #T_636ff_row6_col4, #T_636ff_row6_col5, #T_636ff_row6_col6, #T_636ff_row6_col7, #T_636ff_row7_col0, #T_636ff_row7_col1, #T_636ff_row7_col2, #T_636ff_row7_col3, #T_636ff_row7_col4, #T_636ff_row7_col5, #T_636ff_row7_col7, #T_636ff_row8_col0, #T_636ff_row8_col1, #T_636ff_row8_col2, #T_636ff_row8_col3, #T_636ff_row8_col4, #T_636ff_row8_col5, #T_636ff_row8_col6, #T_636ff_row8_col7, #T_636ff_row9_col0, #T_636ff_row9_col1, #T_636ff_row9_col2, #T_636ff_row9_col3, #T_636ff_row9_col4, #T_636ff_row9_col6, #T_636ff_row9_col7, #T_636ff_row10_col0, #T_636ff_row10_col1, #T_636ff_row10_col2, #T_636ff_row10_col3, #T_636ff_row10_col4, #T_636ff_row10_col5, #T_636ff_row10_col6, #T_636ff_row10_col7, #T_636ff_row11_col0, #T_636ff_row11_col1, #T_636ff_row11_col2, #T_636ff_row11_col4, #T_636ff_row11_col5, #T_636ff_row11_col6, #T_636ff_row11_col7, #T_636ff_row12_col0, #T_636ff_row12_col1, #T_636ff_row12_col2, #T_636ff_row12_col3, #T_636ff_row12_col4, #T_636ff_row12_col5, #T_636ff_row12_col6, #T_636ff_row12_col7, #T_636ff_row13_col0, #T_636ff_row13_col1, #T_636ff_row13_col2, #T_636ff_row13_col3, #T_636ff_row13_col4, #T_636ff_row13_col5, #T_636ff_row13_col6, #T_636ff_row13_col7, #T_636ff_row14_col0, #T_636ff_row14_col1, #T_636ff_row14_col2, #T_636ff_row14_col3, #T_636ff_row14_col4, #T_636ff_row14_col5, #T_636ff_row14_col6, #T_636ff_row14_col7 {\n",
       "  text-align: left;\n",
       "}\n",
       "#T_636ff_row0_col1, #T_636ff_row0_col2, #T_636ff_row0_col7, #T_636ff_row2_col4, #T_636ff_row7_col6, #T_636ff_row9_col5, #T_636ff_row11_col3 {\n",
       "  text-align: left;\n",
       "  background-color: yellow;\n",
       "}\n",
       "#T_636ff_row0_col8, #T_636ff_row1_col8, #T_636ff_row3_col8, #T_636ff_row4_col8, #T_636ff_row5_col8, #T_636ff_row6_col8, #T_636ff_row7_col8, #T_636ff_row8_col8, #T_636ff_row9_col8, #T_636ff_row10_col8, #T_636ff_row11_col8, #T_636ff_row13_col8, #T_636ff_row14_col8 {\n",
       "  text-align: left;\n",
       "  background-color: lightgrey;\n",
       "}\n",
       "#T_636ff_row2_col8, #T_636ff_row12_col8 {\n",
       "  text-align: left;\n",
       "  background-color: yellow;\n",
       "  background-color: lightgrey;\n",
       "}\n",
       "</style>\n",
       "<table id=\"T_636ff_\">\n",
       "  <thead>\n",
       "    <tr>\n",
       "      <th class=\"blank level0\" >&nbsp;</th>\n",
       "      <th class=\"col_heading level0 col0\" >Model</th>\n",
       "      <th class=\"col_heading level0 col1\" >Accuracy</th>\n",
       "      <th class=\"col_heading level0 col2\" >AUC</th>\n",
       "      <th class=\"col_heading level0 col3\" >Recall</th>\n",
       "      <th class=\"col_heading level0 col4\" >Prec.</th>\n",
       "      <th class=\"col_heading level0 col5\" >F1</th>\n",
       "      <th class=\"col_heading level0 col6\" >Kappa</th>\n",
       "      <th class=\"col_heading level0 col7\" >MCC</th>\n",
       "      <th class=\"col_heading level0 col8\" >TT (Sec)</th>\n",
       "    </tr>\n",
       "  </thead>\n",
       "  <tbody>\n",
       "    <tr>\n",
       "      <th id=\"T_636ff_level0_row0\" class=\"row_heading level0 row0\" >lda</th>\n",
       "      <td id=\"T_636ff_row0_col0\" class=\"data row0 col0\" >Linear Discriminant Analysis</td>\n",
       "      <td id=\"T_636ff_row0_col1\" class=\"data row0 col1\" >0.8362</td>\n",
       "      <td id=\"T_636ff_row0_col2\" class=\"data row0 col2\" >0.8395</td>\n",
       "      <td id=\"T_636ff_row0_col3\" class=\"data row0 col3\" >0.2347</td>\n",
       "      <td id=\"T_636ff_row0_col4\" class=\"data row0 col4\" >0.5581</td>\n",
       "      <td id=\"T_636ff_row0_col5\" class=\"data row0 col5\" >0.3282</td>\n",
       "      <td id=\"T_636ff_row0_col6\" class=\"data row0 col6\" >0.2525</td>\n",
       "      <td id=\"T_636ff_row0_col7\" class=\"data row0 col7\" >0.2842</td>\n",
       "      <td id=\"T_636ff_row0_col8\" class=\"data row0 col8\" >0.0330</td>\n",
       "    </tr>\n",
       "    <tr>\n",
       "      <th id=\"T_636ff_level0_row1\" class=\"row_heading level0 row1\" >lr</th>\n",
       "      <td id=\"T_636ff_row1_col0\" class=\"data row1 col0\" >Logistic Regression</td>\n",
       "      <td id=\"T_636ff_row1_col1\" class=\"data row1 col1\" >0.8328</td>\n",
       "      <td id=\"T_636ff_row1_col2\" class=\"data row1 col2\" >0.8295</td>\n",
       "      <td id=\"T_636ff_row1_col3\" class=\"data row1 col3\" >0.2250</td>\n",
       "      <td id=\"T_636ff_row1_col4\" class=\"data row1 col4\" >0.5346</td>\n",
       "      <td id=\"T_636ff_row1_col5\" class=\"data row1 col5\" >0.3144</td>\n",
       "      <td id=\"T_636ff_row1_col6\" class=\"data row1 col6\" >0.2372</td>\n",
       "      <td id=\"T_636ff_row1_col7\" class=\"data row1 col7\" >0.2670</td>\n",
       "      <td id=\"T_636ff_row1_col8\" class=\"data row1 col8\" >1.1800</td>\n",
       "    </tr>\n",
       "    <tr>\n",
       "      <th id=\"T_636ff_level0_row2\" class=\"row_heading level0 row2\" >ridge</th>\n",
       "      <td id=\"T_636ff_row2_col0\" class=\"data row2 col0\" >Ridge Classifier</td>\n",
       "      <td id=\"T_636ff_row2_col1\" class=\"data row2 col1\" >0.8316</td>\n",
       "      <td id=\"T_636ff_row2_col2\" class=\"data row2 col2\" >0.0000</td>\n",
       "      <td id=\"T_636ff_row2_col3\" class=\"data row2 col3\" >0.0764</td>\n",
       "      <td id=\"T_636ff_row2_col4\" class=\"data row2 col4\" >0.5914</td>\n",
       "      <td id=\"T_636ff_row2_col5\" class=\"data row2 col5\" >0.1335</td>\n",
       "      <td id=\"T_636ff_row2_col6\" class=\"data row2 col6\" >0.0974</td>\n",
       "      <td id=\"T_636ff_row2_col7\" class=\"data row2 col7\" >0.1633</td>\n",
       "      <td id=\"T_636ff_row2_col8\" class=\"data row2 col8\" >0.0230</td>\n",
       "    </tr>\n",
       "    <tr>\n",
       "      <th id=\"T_636ff_level0_row3\" class=\"row_heading level0 row3\" >ada</th>\n",
       "      <td id=\"T_636ff_row3_col0\" class=\"data row3 col0\" >Ada Boost Classifier</td>\n",
       "      <td id=\"T_636ff_row3_col1\" class=\"data row3 col1\" >0.8292</td>\n",
       "      <td id=\"T_636ff_row3_col2\" class=\"data row3 col2\" >0.8361</td>\n",
       "      <td id=\"T_636ff_row3_col3\" class=\"data row3 col3\" >0.2667</td>\n",
       "      <td id=\"T_636ff_row3_col4\" class=\"data row3 col4\" >0.5090</td>\n",
       "      <td id=\"T_636ff_row3_col5\" class=\"data row3 col5\" >0.3482</td>\n",
       "      <td id=\"T_636ff_row3_col6\" class=\"data row3 col6\" >0.2609</td>\n",
       "      <td id=\"T_636ff_row3_col7\" class=\"data row3 col7\" >0.2799</td>\n",
       "      <td id=\"T_636ff_row3_col8\" class=\"data row3 col8\" >0.1560</td>\n",
       "    </tr>\n",
       "    <tr>\n",
       "      <th id=\"T_636ff_level0_row4\" class=\"row_heading level0 row4\" >catboost</th>\n",
       "      <td id=\"T_636ff_row4_col0\" class=\"data row4 col0\" >CatBoost Classifier</td>\n",
       "      <td id=\"T_636ff_row4_col1\" class=\"data row4 col1\" >0.8266</td>\n",
       "      <td id=\"T_636ff_row4_col2\" class=\"data row4 col2\" >0.8281</td>\n",
       "      <td id=\"T_636ff_row4_col3\" class=\"data row4 col3\" >0.2569</td>\n",
       "      <td id=\"T_636ff_row4_col4\" class=\"data row4 col4\" >0.5007</td>\n",
       "      <td id=\"T_636ff_row4_col5\" class=\"data row4 col5\" >0.3376</td>\n",
       "      <td id=\"T_636ff_row4_col6\" class=\"data row4 col6\" >0.2491</td>\n",
       "      <td id=\"T_636ff_row4_col7\" class=\"data row4 col7\" >0.2688</td>\n",
       "      <td id=\"T_636ff_row4_col8\" class=\"data row4 col8\" >1.0910</td>\n",
       "    </tr>\n",
       "    <tr>\n",
       "      <th id=\"T_636ff_level0_row5\" class=\"row_heading level0 row5\" >rf</th>\n",
       "      <td id=\"T_636ff_row5_col0\" class=\"data row5 col0\" >Random Forest Classifier</td>\n",
       "      <td id=\"T_636ff_row5_col1\" class=\"data row5 col1\" >0.8257</td>\n",
       "      <td id=\"T_636ff_row5_col2\" class=\"data row5 col2\" >0.8160</td>\n",
       "      <td id=\"T_636ff_row5_col3\" class=\"data row5 col3\" >0.2042</td>\n",
       "      <td id=\"T_636ff_row5_col4\" class=\"data row5 col4\" >0.4857</td>\n",
       "      <td id=\"T_636ff_row5_col5\" class=\"data row5 col5\" >0.2857</td>\n",
       "      <td id=\"T_636ff_row5_col6\" class=\"data row5 col6\" >0.2050</td>\n",
       "      <td id=\"T_636ff_row5_col7\" class=\"data row5 col7\" >0.2309</td>\n",
       "      <td id=\"T_636ff_row5_col8\" class=\"data row5 col8\" >0.4800</td>\n",
       "    </tr>\n",
       "    <tr>\n",
       "      <th id=\"T_636ff_level0_row6\" class=\"row_heading level0 row6\" >gbc</th>\n",
       "      <td id=\"T_636ff_row6_col0\" class=\"data row6 col0\" >Gradient Boosting Classifier</td>\n",
       "      <td id=\"T_636ff_row6_col1\" class=\"data row6 col1\" >0.8252</td>\n",
       "      <td id=\"T_636ff_row6_col2\" class=\"data row6 col2\" >0.8335</td>\n",
       "      <td id=\"T_636ff_row6_col3\" class=\"data row6 col3\" >0.2597</td>\n",
       "      <td id=\"T_636ff_row6_col4\" class=\"data row6 col4\" >0.4854</td>\n",
       "      <td id=\"T_636ff_row6_col5\" class=\"data row6 col5\" >0.3366</td>\n",
       "      <td id=\"T_636ff_row6_col6\" class=\"data row6 col6\" >0.2468</td>\n",
       "      <td id=\"T_636ff_row6_col7\" class=\"data row6 col7\" >0.2636</td>\n",
       "      <td id=\"T_636ff_row6_col8\" class=\"data row6 col8\" >0.2810</td>\n",
       "    </tr>\n",
       "    <tr>\n",
       "      <th id=\"T_636ff_level0_row7\" class=\"row_heading level0 row7\" >lightgbm</th>\n",
       "      <td id=\"T_636ff_row7_col0\" class=\"data row7 col0\" >Light Gradient Boosting Machine</td>\n",
       "      <td id=\"T_636ff_row7_col1\" class=\"data row7 col1\" >0.8230</td>\n",
       "      <td id=\"T_636ff_row7_col2\" class=\"data row7 col2\" >0.8208</td>\n",
       "      <td id=\"T_636ff_row7_col3\" class=\"data row7 col3\" >0.2958</td>\n",
       "      <td id=\"T_636ff_row7_col4\" class=\"data row7 col4\" >0.4779</td>\n",
       "      <td id=\"T_636ff_row7_col5\" class=\"data row7 col5\" >0.3639</td>\n",
       "      <td id=\"T_636ff_row7_col6\" class=\"data row7 col6\" >0.2679</td>\n",
       "      <td id=\"T_636ff_row7_col7\" class=\"data row7 col7\" >0.2790</td>\n",
       "      <td id=\"T_636ff_row7_col8\" class=\"data row7 col8\" >1.3800</td>\n",
       "    </tr>\n",
       "    <tr>\n",
       "      <th id=\"T_636ff_level0_row8\" class=\"row_heading level0 row8\" >et</th>\n",
       "      <td id=\"T_636ff_row8_col0\" class=\"data row8 col0\" >Extra Trees Classifier</td>\n",
       "      <td id=\"T_636ff_row8_col1\" class=\"data row8 col1\" >0.8207</td>\n",
       "      <td id=\"T_636ff_row8_col2\" class=\"data row8 col2\" >0.7754</td>\n",
       "      <td id=\"T_636ff_row8_col3\" class=\"data row8 col3\" >0.1486</td>\n",
       "      <td id=\"T_636ff_row8_col4\" class=\"data row8 col4\" >0.4339</td>\n",
       "      <td id=\"T_636ff_row8_col5\" class=\"data row8 col5\" >0.2207</td>\n",
       "      <td id=\"T_636ff_row8_col6\" class=\"data row8 col6\" >0.1462</td>\n",
       "      <td id=\"T_636ff_row8_col7\" class=\"data row8 col7\" >0.1735</td>\n",
       "      <td id=\"T_636ff_row8_col8\" class=\"data row8 col8\" >0.5320</td>\n",
       "    </tr>\n",
       "    <tr>\n",
       "      <th id=\"T_636ff_level0_row9\" class=\"row_heading level0 row9\" >knn</th>\n",
       "      <td id=\"T_636ff_row9_col0\" class=\"data row9 col0\" >K Neighbors Classifier</td>\n",
       "      <td id=\"T_636ff_row9_col1\" class=\"data row9 col1\" >0.8142</td>\n",
       "      <td id=\"T_636ff_row9_col2\" class=\"data row9 col2\" >0.7642</td>\n",
       "      <td id=\"T_636ff_row9_col3\" class=\"data row9 col3\" >0.3139</td>\n",
       "      <td id=\"T_636ff_row9_col4\" class=\"data row9 col4\" >0.4395</td>\n",
       "      <td id=\"T_636ff_row9_col5\" class=\"data row9 col5\" >0.3643</td>\n",
       "      <td id=\"T_636ff_row9_col6\" class=\"data row9 col6\" >0.2599</td>\n",
       "      <td id=\"T_636ff_row9_col7\" class=\"data row9 col7\" >0.2656</td>\n",
       "      <td id=\"T_636ff_row9_col8\" class=\"data row9 col8\" >0.0990</td>\n",
       "    </tr>\n",
       "    <tr>\n",
       "      <th id=\"T_636ff_level0_row10\" class=\"row_heading level0 row10\" >xgboost</th>\n",
       "      <td id=\"T_636ff_row10_col0\" class=\"data row10 col0\" >Extreme Gradient Boosting</td>\n",
       "      <td id=\"T_636ff_row10_col1\" class=\"data row10 col1\" >0.8133</td>\n",
       "      <td id=\"T_636ff_row10_col2\" class=\"data row10 col2\" >0.8083</td>\n",
       "      <td id=\"T_636ff_row10_col3\" class=\"data row10 col3\" >0.2819</td>\n",
       "      <td id=\"T_636ff_row10_col4\" class=\"data row10 col4\" >0.4364</td>\n",
       "      <td id=\"T_636ff_row10_col5\" class=\"data row10 col5\" >0.3407</td>\n",
       "      <td id=\"T_636ff_row10_col6\" class=\"data row10 col6\" >0.2380</td>\n",
       "      <td id=\"T_636ff_row10_col7\" class=\"data row10 col7\" >0.2466</td>\n",
       "      <td id=\"T_636ff_row10_col8\" class=\"data row10 col8\" >0.7710</td>\n",
       "    </tr>\n",
       "    <tr>\n",
       "      <th id=\"T_636ff_level0_row11\" class=\"row_heading level0 row11\" >dt</th>\n",
       "      <td id=\"T_636ff_row11_col0\" class=\"data row11 col0\" >Decision Tree Classifier</td>\n",
       "      <td id=\"T_636ff_row11_col1\" class=\"data row11 col1\" >0.7716</td>\n",
       "      <td id=\"T_636ff_row11_col2\" class=\"data row11 col2\" >0.6138</td>\n",
       "      <td id=\"T_636ff_row11_col3\" class=\"data row11 col3\" >0.3736</td>\n",
       "      <td id=\"T_636ff_row11_col4\" class=\"data row11 col4\" >0.3483</td>\n",
       "      <td id=\"T_636ff_row11_col5\" class=\"data row11 col5\" >0.3591</td>\n",
       "      <td id=\"T_636ff_row11_col6\" class=\"data row11 col6\" >0.2209</td>\n",
       "      <td id=\"T_636ff_row11_col7\" class=\"data row11 col7\" >0.2217</td>\n",
       "      <td id=\"T_636ff_row11_col8\" class=\"data row11 col8\" >0.0260</td>\n",
       "    </tr>\n",
       "    <tr>\n",
       "      <th id=\"T_636ff_level0_row12\" class=\"row_heading level0 row12\" >nb</th>\n",
       "      <td id=\"T_636ff_row12_col0\" class=\"data row12 col0\" >Naive Bayes</td>\n",
       "      <td id=\"T_636ff_row12_col1\" class=\"data row12 col1\" >0.7564</td>\n",
       "      <td id=\"T_636ff_row12_col2\" class=\"data row12 col2\" >0.7213</td>\n",
       "      <td id=\"T_636ff_row12_col3\" class=\"data row12 col3\" >0.2972</td>\n",
       "      <td id=\"T_636ff_row12_col4\" class=\"data row12 col4\" >0.2940</td>\n",
       "      <td id=\"T_636ff_row12_col5\" class=\"data row12 col5\" >0.2939</td>\n",
       "      <td id=\"T_636ff_row12_col6\" class=\"data row12 col6\" >0.1475</td>\n",
       "      <td id=\"T_636ff_row12_col7\" class=\"data row12 col7\" >0.1482</td>\n",
       "      <td id=\"T_636ff_row12_col8\" class=\"data row12 col8\" >0.0230</td>\n",
       "    </tr>\n",
       "    <tr>\n",
       "      <th id=\"T_636ff_level0_row13\" class=\"row_heading level0 row13\" >qda</th>\n",
       "      <td id=\"T_636ff_row13_col0\" class=\"data row13 col0\" >Quadratic Discriminant Analysis</td>\n",
       "      <td id=\"T_636ff_row13_col1\" class=\"data row13 col1\" >0.7123</td>\n",
       "      <td id=\"T_636ff_row13_col2\" class=\"data row13 col2\" >0.4998</td>\n",
       "      <td id=\"T_636ff_row13_col3\" class=\"data row13 col3\" >0.1792</td>\n",
       "      <td id=\"T_636ff_row13_col4\" class=\"data row13 col4\" >0.1470</td>\n",
       "      <td id=\"T_636ff_row13_col5\" class=\"data row13 col5\" >0.1487</td>\n",
       "      <td id=\"T_636ff_row13_col6\" class=\"data row13 col6\" >0.0002</td>\n",
       "      <td id=\"T_636ff_row13_col7\" class=\"data row13 col7\" >-0.0011</td>\n",
       "      <td id=\"T_636ff_row13_col8\" class=\"data row13 col8\" >0.0300</td>\n",
       "    </tr>\n",
       "    <tr>\n",
       "      <th id=\"T_636ff_level0_row14\" class=\"row_heading level0 row14\" >svm</th>\n",
       "      <td id=\"T_636ff_row14_col0\" class=\"data row14 col0\" >SVM - Linear Kernel</td>\n",
       "      <td id=\"T_636ff_row14_col1\" class=\"data row14 col1\" >0.6972</td>\n",
       "      <td id=\"T_636ff_row14_col2\" class=\"data row14 col2\" >0.0000</td>\n",
       "      <td id=\"T_636ff_row14_col3\" class=\"data row14 col3\" >0.2000</td>\n",
       "      <td id=\"T_636ff_row14_col4\" class=\"data row14 col4\" >0.0343</td>\n",
       "      <td id=\"T_636ff_row14_col5\" class=\"data row14 col5\" >0.0586</td>\n",
       "      <td id=\"T_636ff_row14_col6\" class=\"data row14 col6\" >0.0000</td>\n",
       "      <td id=\"T_636ff_row14_col7\" class=\"data row14 col7\" >0.0000</td>\n",
       "      <td id=\"T_636ff_row14_col8\" class=\"data row14 col8\" >0.0780</td>\n",
       "    </tr>\n",
       "  </tbody>\n",
       "</table>\n"
      ],
      "text/plain": [
       "<pandas.io.formats.style.Styler at 0x1448ab810>"
      ]
     },
     "metadata": {},
     "output_type": "display_data"
    }
   ],
   "source": [
    "#Compare Models using PyCaret\n",
    "cmp_model = compare_models()"
   ]
  },
  {
   "cell_type": "markdown",
   "metadata": {},
   "source": [
    "#### Base Model"
   ]
  },
  {
   "cell_type": "code",
   "execution_count": 47,
   "metadata": {},
   "outputs": [
    {
     "data": {
      "text/plain": [
       "LogisticRegression(C=1.0, class_weight=None, dual=False, fit_intercept=True,\n",
       "                   intercept_scaling=1, l1_ratio=None, max_iter=100,\n",
       "                   multi_class='auto', n_jobs=None, penalty='l2',\n",
       "                   random_state=42, solver='lbfgs', tol=0.0001, verbose=0,\n",
       "                   warm_start=False)"
      ]
     },
     "execution_count": 47,
     "metadata": {},
     "output_type": "execute_result"
    }
   ],
   "source": [
    "#Base Model\n",
    "\n",
    "#Target Encoding on Categorical Features\n",
    "enc_targ = ce.target_encoder.TargetEncoder(min_samples_leaf=1, smoothing=0, return_df=True)\n",
    "enc_targ.fit(X_train_cp[categorical_feat], y_train)\n",
    "X_train_cp[categorical_feat] = enc_targ.transform(X_train_cp[categorical_feat])\n",
    "\n",
    "#Standard Scaling on Numeric Features\n",
    "scaler = StandardScaler()\n",
    "scaler.fit(X_train_cp[numeric_feat])\n",
    "X_train_cp[numeric_feat] = scaler.transform(X_train_cp[numeric_feat])\n",
    "\n",
    "#Apply Logistic Regression as a Base Model\n",
    "logistic_ = (random_state=42)\n",
    "logistic_.fit(X_train_cp, y_train)"
   ]
  },
  {
   "cell_type": "code",
   "execution_count": 48,
   "metadata": {},
   "outputs": [
    {
     "data": {
      "text/plain": [
       "0.8370833333333334"
      ]
     },
     "execution_count": 48,
     "metadata": {},
     "output_type": "execute_result"
    }
   ],
   "source": [
    "#Base Model Scoring\n",
    "scores = cross_validate(logistic_, X_train_cp, y_train, \n",
    "                         scoring='f1_micro', cv=10, n_jobs=-1)\n",
    "scores['test_score'].mean()"
   ]
  },
  {
   "cell_type": "code",
   "execution_count": 49,
   "metadata": {},
   "outputs": [
    {
     "data": {
      "text/plain": [
       "{'fit_time': array([0.07, 0.1 , 0.09, 0.12, 0.12, 0.1 , 0.08, 0.09, 0.06, 0.06]),\n",
       " 'score_time': array([0.01, 0.02, 0.02, 0.01, 0.01, 0.01, 0.01, 0.01, 0.  , 0.  ]),\n",
       " 'test_score': array([0.83, 0.82, 0.84, 0.83, 0.83, 0.85, 0.86, 0.85, 0.83, 0.82])}"
      ]
     },
     "execution_count": 49,
     "metadata": {},
     "output_type": "execute_result"
    }
   ],
   "source": [
    "scores"
   ]
  },
  {
   "cell_type": "markdown",
   "metadata": {
    "id": "ugyTS51Ko5vz"
   },
   "source": [
    "## 3.2: Feature engineering"
   ]
  },
  {
   "cell_type": "code",
   "execution_count": 50,
   "metadata": {},
   "outputs": [],
   "source": [
    "#Calculate Age of the person from the DOB\n",
    "from datetime import datetime\n",
    "def getAge(dframe):\n",
    "    dframe['DateOfBirth'] = pd.to_datetime(X_train.DateOfBirth)\n",
    "    today = datetime.today()\n",
    "    age = dframe['DateOfBirth'].apply(lambda x: today.year - x.year - ((today.month, today.day) < (x.month, x.day)))\n",
    "    dframe['age'] = age\n",
    "    dframe.drop(columns = 'DateOfBirth', inplace = True)\n",
    "    return dframe"
   ]
  },
  {
   "cell_type": "code",
   "execution_count": 51,
   "metadata": {},
   "outputs": [],
   "source": [
    "#Feature 1 - Age\n",
    "X_train_cp = getAge(X_train_cp)"
   ]
  },
  {
   "cell_type": "code",
   "execution_count": 52,
   "metadata": {},
   "outputs": [],
   "source": [
    "#Feature 2, 3 - Binning & Label Encoding Age and Amount\n",
    "X_train_cp['age_binned'] = pd.qcut(X_train_cp.age, q=[0, .25, .50, .75, 1])\n",
    "X_train_cp['amount_binned'] = pd.qcut(X_train_cp.Amount, q=[0, .25, .50, .75, 1])\n",
    "\n",
    "le_age = LabelEncoder()\n",
    "le_age.fit(X_train_cp['age_binned'])\n",
    "X_train_cp['age'] = le_age.transform(X_train_cp['age_binned'])\n",
    "X_train_cp.drop(columns = 'age_binned', inplace = True)\n",
    "\n",
    "le_amount = LabelEncoder()\n",
    "le_amount.fit(X_train_cp['amount_binned'])\n",
    "X_train_cp['Amount'] = le_amount.transform(X_train_cp['amount_binned'])\n",
    "X_train_cp.drop(columns = 'amount_binned', inplace = True)"
   ]
  },
  {
   "cell_type": "code",
   "execution_count": 54,
   "metadata": {},
   "outputs": [
    {
     "data": {
      "text/plain": [
       "LogisticRegression(C=1.0, class_weight=None, dual=False, fit_intercept=True,\n",
       "                   intercept_scaling=1, l1_ratio=None, max_iter=100,\n",
       "                   multi_class='auto', n_jobs=None, penalty='l2',\n",
       "                   random_state=42, solver='lbfgs', tol=0.0001, verbose=0,\n",
       "                   warm_start=False)"
      ]
     },
     "execution_count": 54,
     "metadata": {},
     "output_type": "execute_result"
    }
   ],
   "source": [
    "#Run Logistic Regression on the Feature Engineered Dataset\n",
    "logistic_ = LogisticRegression(random_state=42)\n",
    "logistic_.fit(X_train_cp, y_train)"
   ]
  },
  {
   "cell_type": "code",
   "execution_count": 55,
   "metadata": {},
   "outputs": [
    {
     "data": {
      "text/plain": [
       "0.8772916666666667"
      ]
     },
     "execution_count": 55,
     "metadata": {},
     "output_type": "execute_result"
    }
   ],
   "source": [
    "#Scoring after Feature Engineering\n",
    "scores = cross_validate(logistic_, X_train_cp, y_train, \n",
    "                         scoring='f1_micro', cv=10, n_jobs=-1)\n",
    "scores['test_score'].mean()"
   ]
  },
  {
   "cell_type": "markdown",
   "metadata": {
    "id": "PsdD0clko5pz"
   },
   "source": [
    "## 3.3: Feature selection"
   ]
  },
  {
   "cell_type": "code",
   "execution_count": 57,
   "metadata": {},
   "outputs": [
    {
     "data": {
      "text/plain": [
       "LogisticRegression(C=1.0, class_weight=None, dual=False, fit_intercept=True,\n",
       "                   intercept_scaling=1, l1_ratio=None, max_iter=100,\n",
       "                   multi_class='auto', n_jobs=None, penalty='l2',\n",
       "                   random_state=22, solver='lbfgs', tol=0.0001, verbose=0,\n",
       "                   warm_start=False)"
      ]
     },
     "execution_count": 57,
     "metadata": {},
     "output_type": "execute_result"
    }
   ],
   "source": [
    "#Feature Selection Using SelectKBest\n",
    "from sklearn.feature_selection import SelectKBest, chi2\n",
    "\n",
    "sel = SelectKBest(k=4)\n",
    "sel = sel.fit(X_train_cp, y_train)\n",
    "\n",
    "X_train_fea = sel.transform(X_train_cp)\n",
    "\n",
    "#Run Logistic Regression on the Feature Selected Dataset\n",
    "lr_clf_fea = LogisticRegression(random_state=22)\n",
    "lr_clf_fea.fit(X_train_fea, y_train)"
   ]
  },
  {
   "cell_type": "code",
   "execution_count": 58,
   "metadata": {},
   "outputs": [
    {
     "data": {
      "text/plain": [
       "0.8747916666666666"
      ]
     },
     "execution_count": 58,
     "metadata": {},
     "output_type": "execute_result"
    }
   ],
   "source": [
    "#Scoring after Feature Selection\n",
    "scores_fea = cross_validate(lr_clf_fea, X_train_fea, y_train, \n",
    "                         scoring='f1_micro', cv=10, n_jobs=-1)\n",
    "scores_fea['test_score'].mean()"
   ]
  },
  {
   "cell_type": "markdown",
   "metadata": {
    "id": "Ff4l2aNKo5fr"
   },
   "source": [
    "## 3.4: Hyperparameter tuning"
   ]
  },
  {
   "cell_type": "code",
   "execution_count": 59,
   "metadata": {
    "id": "7XaxtTWMpIpP"
   },
   "outputs": [
    {
     "name": "stdout",
     "output_type": "stream",
     "text": [
      "Fitting 10 folds for each of 24 candidates, totalling 240 fits\n"
     ]
    },
    {
     "name": "stderr",
     "output_type": "stream",
     "text": [
      "[Parallel(n_jobs=-1)]: Using backend LokyBackend with 4 concurrent workers.\n",
      "[Parallel(n_jobs=-1)]: Done  92 tasks      | elapsed:    1.7s\n",
      "[Parallel(n_jobs=-1)]: Done 233 out of 240 | elapsed:    4.8s remaining:    0.1s\n",
      "[Parallel(n_jobs=-1)]: Done 240 out of 240 | elapsed:    4.9s finished\n"
     ]
    }
   ],
   "source": [
    "from sklearn import decomposition, datasets\n",
    "from sklearn.pipeline import Pipeline\n",
    "from sklearn.model_selection import GridSearchCV\n",
    "from sklearn.preprocessing import StandardScaler\n",
    "\n",
    "param_grid = {\n",
    "    'C': [3, 4, 5],\n",
    "    'penalty':[\"l1\",\"l2\"],\n",
    "    \"solver\":['lbfgs', 'liblinear', 'sag', 'saga']\n",
    "}\n",
    "\n",
    "pipe_best = GridSearchCV(lr_clf_fea, param_grid, cv=10, n_jobs=-1, \n",
    "                     scoring='f1_micro', return_train_score=True, verbose=2)\n",
    "\n",
    "pipe_best = pipe_best.fit(X_train_fea, y_train)"
   ]
  },
  {
   "cell_type": "code",
   "execution_count": 60,
   "metadata": {},
   "outputs": [
    {
     "name": "stdout",
     "output_type": "stream",
     "text": [
      "0.8783333333333335\n",
      "{'C': 5, 'penalty': 'l1', 'solver': 'liblinear'}\n"
     ]
    }
   ],
   "source": [
    "print(pipe_best.best_score_)\n",
    "print(pipe_best.best_params_)"
   ]
  },
  {
   "cell_type": "markdown",
   "metadata": {
    "id": "Te9gGGLEpXRG"
   },
   "source": [
    "## 3.5: Performance estimation"
   ]
  },
  {
   "cell_type": "code",
   "execution_count": 61,
   "metadata": {},
   "outputs": [],
   "source": [
    "X_test_cp = X_test.copy()"
   ]
  },
  {
   "cell_type": "code",
   "execution_count": 62,
   "metadata": {},
   "outputs": [],
   "source": [
    "X_test_cp.drop(columns = drop_features, inplace = True)"
   ]
  },
  {
   "cell_type": "code",
   "execution_count": 63,
   "metadata": {},
   "outputs": [
    {
     "data": {
      "text/html": [
       "<div>\n",
       "<style scoped>\n",
       "    .dataframe tbody tr th:only-of-type {\n",
       "        vertical-align: middle;\n",
       "    }\n",
       "\n",
       "    .dataframe tbody tr th {\n",
       "        vertical-align: top;\n",
       "    }\n",
       "\n",
       "    .dataframe thead th {\n",
       "        text-align: right;\n",
       "    }\n",
       "</style>\n",
       "<table border=\"1\" class=\"dataframe\">\n",
       "  <thead>\n",
       "    <tr style=\"text-align: right;\">\n",
       "      <th></th>\n",
       "      <th>Sex</th>\n",
       "      <th>PreviousDefault</th>\n",
       "      <th>NumberPets</th>\n",
       "      <th>PreviousAccounts</th>\n",
       "      <th>ResidenceDuration</th>\n",
       "      <th>Amount</th>\n",
       "      <th>Married</th>\n",
       "      <th>Duration</th>\n",
       "      <th>City</th>\n",
       "      <th>Purpose</th>\n",
       "    </tr>\n",
       "  </thead>\n",
       "  <tbody>\n",
       "    <tr>\n",
       "      <th>1782</th>\n",
       "      <td>F</td>\n",
       "      <td>0</td>\n",
       "      <td>1</td>\n",
       "      <td>1</td>\n",
       "      <td>3</td>\n",
       "      <td>3773</td>\n",
       "      <td>0</td>\n",
       "      <td>36</td>\n",
       "      <td>North Judithbury</td>\n",
       "      <td>NewCar</td>\n",
       "    </tr>\n",
       "    <tr>\n",
       "      <th>3917</th>\n",
       "      <td>F</td>\n",
       "      <td>0</td>\n",
       "      <td>0</td>\n",
       "      <td>0</td>\n",
       "      <td>3</td>\n",
       "      <td>3412</td>\n",
       "      <td>0</td>\n",
       "      <td>24</td>\n",
       "      <td>Lake Roberto</td>\n",
       "      <td>UsedCar</td>\n",
       "    </tr>\n",
       "    <tr>\n",
       "      <th>221</th>\n",
       "      <td>F</td>\n",
       "      <td>0</td>\n",
       "      <td>2</td>\n",
       "      <td>2</td>\n",
       "      <td>0</td>\n",
       "      <td>4146</td>\n",
       "      <td>0</td>\n",
       "      <td>24</td>\n",
       "      <td>West Michael</td>\n",
       "      <td>NewCar</td>\n",
       "    </tr>\n",
       "    <tr>\n",
       "      <th>2135</th>\n",
       "      <td>M</td>\n",
       "      <td>0</td>\n",
       "      <td>2</td>\n",
       "      <td>1</td>\n",
       "      <td>1</td>\n",
       "      <td>3608</td>\n",
       "      <td>1</td>\n",
       "      <td>30</td>\n",
       "      <td>East Jessetown</td>\n",
       "      <td>UsedCar</td>\n",
       "    </tr>\n",
       "    <tr>\n",
       "      <th>5224</th>\n",
       "      <td>F</td>\n",
       "      <td>0</td>\n",
       "      <td>2</td>\n",
       "      <td>1</td>\n",
       "      <td>1</td>\n",
       "      <td>2947</td>\n",
       "      <td>1</td>\n",
       "      <td>24</td>\n",
       "      <td>North Judithbury</td>\n",
       "      <td>NewCar</td>\n",
       "    </tr>\n",
       "    <tr>\n",
       "      <th>...</th>\n",
       "      <td>...</td>\n",
       "      <td>...</td>\n",
       "      <td>...</td>\n",
       "      <td>...</td>\n",
       "      <td>...</td>\n",
       "      <td>...</td>\n",
       "      <td>...</td>\n",
       "      <td>...</td>\n",
       "      <td>...</td>\n",
       "      <td>...</td>\n",
       "    </tr>\n",
       "    <tr>\n",
       "      <th>2543</th>\n",
       "      <td>F</td>\n",
       "      <td>0</td>\n",
       "      <td>0</td>\n",
       "      <td>1</td>\n",
       "      <td>0</td>\n",
       "      <td>3133</td>\n",
       "      <td>0</td>\n",
       "      <td>30</td>\n",
       "      <td>Robinsonshire</td>\n",
       "      <td>Household</td>\n",
       "    </tr>\n",
       "    <tr>\n",
       "      <th>1773</th>\n",
       "      <td>F</td>\n",
       "      <td>0</td>\n",
       "      <td>1</td>\n",
       "      <td>1</td>\n",
       "      <td>2</td>\n",
       "      <td>3640</td>\n",
       "      <td>0</td>\n",
       "      <td>36</td>\n",
       "      <td>New Roberttown</td>\n",
       "      <td>Household</td>\n",
       "    </tr>\n",
       "    <tr>\n",
       "      <th>2846</th>\n",
       "      <td>M</td>\n",
       "      <td>0</td>\n",
       "      <td>2</td>\n",
       "      <td>1</td>\n",
       "      <td>0</td>\n",
       "      <td>3918</td>\n",
       "      <td>1</td>\n",
       "      <td>30</td>\n",
       "      <td>North Judithbury</td>\n",
       "      <td>NewCar</td>\n",
       "    </tr>\n",
       "    <tr>\n",
       "      <th>5799</th>\n",
       "      <td>M</td>\n",
       "      <td>0</td>\n",
       "      <td>1</td>\n",
       "      <td>3</td>\n",
       "      <td>2</td>\n",
       "      <td>3135</td>\n",
       "      <td>0</td>\n",
       "      <td>36</td>\n",
       "      <td>North Judithbury</td>\n",
       "      <td>Household</td>\n",
       "    </tr>\n",
       "    <tr>\n",
       "      <th>1765</th>\n",
       "      <td>F</td>\n",
       "      <td>0</td>\n",
       "      <td>1</td>\n",
       "      <td>1</td>\n",
       "      <td>0</td>\n",
       "      <td>3126</td>\n",
       "      <td>0</td>\n",
       "      <td>36</td>\n",
       "      <td>East Jill</td>\n",
       "      <td>Education</td>\n",
       "    </tr>\n",
       "  </tbody>\n",
       "</table>\n",
       "<p>1200 rows × 10 columns</p>\n",
       "</div>"
      ],
      "text/plain": [
       "     Sex  PreviousDefault  NumberPets  PreviousAccounts  ResidenceDuration  \\\n",
       "1782   F                0           1                 1                  3   \n",
       "3917   F                0           0                 0                  3   \n",
       "221    F                0           2                 2                  0   \n",
       "2135   M                0           2                 1                  1   \n",
       "5224   F                0           2                 1                  1   \n",
       "...   ..              ...         ...               ...                ...   \n",
       "2543   F                0           0                 1                  0   \n",
       "1773   F                0           1                 1                  2   \n",
       "2846   M                0           2                 1                  0   \n",
       "5799   M                0           1                 3                  2   \n",
       "1765   F                0           1                 1                  0   \n",
       "\n",
       "      Amount  Married  Duration              City    Purpose  \n",
       "1782    3773        0        36  North Judithbury     NewCar  \n",
       "3917    3412        0        24      Lake Roberto    UsedCar  \n",
       "221     4146        0        24      West Michael     NewCar  \n",
       "2135    3608        1        30    East Jessetown    UsedCar  \n",
       "5224    2947        1        24  North Judithbury     NewCar  \n",
       "...      ...      ...       ...               ...        ...  \n",
       "2543    3133        0        30     Robinsonshire  Household  \n",
       "1773    3640        0        36    New Roberttown  Household  \n",
       "2846    3918        1        30  North Judithbury     NewCar  \n",
       "5799    3135        0        36  North Judithbury  Household  \n",
       "1765    3126        0        36         East Jill  Education  \n",
       "\n",
       "[1200 rows x 10 columns]"
      ]
     },
     "execution_count": 63,
     "metadata": {},
     "output_type": "execute_result"
    }
   ],
   "source": [
    "X_test_cp"
   ]
  },
  {
   "cell_type": "code",
   "execution_count": 64,
   "metadata": {},
   "outputs": [],
   "source": [
    "#Test Set transformation\n",
    "X_test_cp[categorical_feat] = enc_targ.transform(X_test_cp[categorical_feat])\n",
    "X_test_cp[numeric_feat]=scaler.transform(X_test_cp[numeric_feat])"
   ]
  },
  {
   "cell_type": "code",
   "execution_count": 65,
   "metadata": {},
   "outputs": [],
   "source": [
    "#Test Set Transformation and feature engineering\n",
    "X_test_cp['DateOfBirth'] = pd.to_datetime(X_test.DateOfBirth)\n",
    "today = datetime.today()\n",
    "age = X_test_cp['DateOfBirth'].apply(lambda x: today.year - x.year - ((today.month, today.day) < (x.month, x.day)))\n",
    "X_test_cp['age'] = age\n",
    "X_test_cp.drop(columns = 'DateOfBirth', inplace = True)"
   ]
  },
  {
   "cell_type": "code",
   "execution_count": 66,
   "metadata": {},
   "outputs": [
    {
     "data": {
      "text/html": [
       "<div>\n",
       "<style scoped>\n",
       "    .dataframe tbody tr th:only-of-type {\n",
       "        vertical-align: middle;\n",
       "    }\n",
       "\n",
       "    .dataframe tbody tr th {\n",
       "        vertical-align: top;\n",
       "    }\n",
       "\n",
       "    .dataframe thead th {\n",
       "        text-align: right;\n",
       "    }\n",
       "</style>\n",
       "<table border=\"1\" class=\"dataframe\">\n",
       "  <thead>\n",
       "    <tr style=\"text-align: right;\">\n",
       "      <th></th>\n",
       "      <th>Sex</th>\n",
       "      <th>PreviousDefault</th>\n",
       "      <th>NumberPets</th>\n",
       "      <th>PreviousAccounts</th>\n",
       "      <th>ResidenceDuration</th>\n",
       "      <th>Amount</th>\n",
       "      <th>Married</th>\n",
       "      <th>Duration</th>\n",
       "      <th>City</th>\n",
       "      <th>Purpose</th>\n",
       "      <th>age</th>\n",
       "    </tr>\n",
       "  </thead>\n",
       "  <tbody>\n",
       "    <tr>\n",
       "      <th>1782</th>\n",
       "      <td>0.168664</td>\n",
       "      <td>0</td>\n",
       "      <td>-0.025508</td>\n",
       "      <td>-0.005157</td>\n",
       "      <td>0.722001</td>\n",
       "      <td>0.417148</td>\n",
       "      <td>0</td>\n",
       "      <td>1.248250</td>\n",
       "      <td>0.171342</td>\n",
       "      <td>0.182131</td>\n",
       "      <td>51</td>\n",
       "    </tr>\n",
       "    <tr>\n",
       "      <th>3917</th>\n",
       "      <td>0.168664</td>\n",
       "      <td>0</td>\n",
       "      <td>-1.249886</td>\n",
       "      <td>-0.995216</td>\n",
       "      <td>0.722001</td>\n",
       "      <td>-0.431866</td>\n",
       "      <td>0</td>\n",
       "      <td>-0.029685</td>\n",
       "      <td>0.189024</td>\n",
       "      <td>0.169691</td>\n",
       "      <td>58</td>\n",
       "    </tr>\n",
       "    <tr>\n",
       "      <th>221</th>\n",
       "      <td>0.168664</td>\n",
       "      <td>0</td>\n",
       "      <td>1.198870</td>\n",
       "      <td>0.984903</td>\n",
       "      <td>-1.424327</td>\n",
       "      <td>1.294384</td>\n",
       "      <td>0</td>\n",
       "      <td>-0.029685</td>\n",
       "      <td>0.156250</td>\n",
       "      <td>0.182131</td>\n",
       "      <td>50</td>\n",
       "    </tr>\n",
       "    <tr>\n",
       "      <th>2135</th>\n",
       "      <td>0.178523</td>\n",
       "      <td>0</td>\n",
       "      <td>1.198870</td>\n",
       "      <td>-0.005157</td>\n",
       "      <td>-0.708884</td>\n",
       "      <td>0.029095</td>\n",
       "      <td>1</td>\n",
       "      <td>0.609282</td>\n",
       "      <td>0.161290</td>\n",
       "      <td>0.169691</td>\n",
       "      <td>58</td>\n",
       "    </tr>\n",
       "    <tr>\n",
       "      <th>5224</th>\n",
       "      <td>0.168664</td>\n",
       "      <td>0</td>\n",
       "      <td>1.198870</td>\n",
       "      <td>-0.005157</td>\n",
       "      <td>-0.708884</td>\n",
       "      <td>-1.525471</td>\n",
       "      <td>1</td>\n",
       "      <td>-0.029685</td>\n",
       "      <td>0.171342</td>\n",
       "      <td>0.182131</td>\n",
       "      <td>43</td>\n",
       "    </tr>\n",
       "    <tr>\n",
       "      <th>...</th>\n",
       "      <td>...</td>\n",
       "      <td>...</td>\n",
       "      <td>...</td>\n",
       "      <td>...</td>\n",
       "      <td>...</td>\n",
       "      <td>...</td>\n",
       "      <td>...</td>\n",
       "      <td>...</td>\n",
       "      <td>...</td>\n",
       "      <td>...</td>\n",
       "      <td>...</td>\n",
       "    </tr>\n",
       "    <tr>\n",
       "      <th>2543</th>\n",
       "      <td>0.168664</td>\n",
       "      <td>0</td>\n",
       "      <td>-1.249886</td>\n",
       "      <td>-0.005157</td>\n",
       "      <td>-1.424327</td>\n",
       "      <td>-1.088029</td>\n",
       "      <td>0</td>\n",
       "      <td>0.609282</td>\n",
       "      <td>0.170635</td>\n",
       "      <td>0.146444</td>\n",
       "      <td>50</td>\n",
       "    </tr>\n",
       "    <tr>\n",
       "      <th>1773</th>\n",
       "      <td>0.168664</td>\n",
       "      <td>0</td>\n",
       "      <td>-0.025508</td>\n",
       "      <td>-0.005157</td>\n",
       "      <td>0.006558</td>\n",
       "      <td>0.104354</td>\n",
       "      <td>0</td>\n",
       "      <td>1.248250</td>\n",
       "      <td>0.162741</td>\n",
       "      <td>0.146444</td>\n",
       "      <td>45</td>\n",
       "    </tr>\n",
       "    <tr>\n",
       "      <th>2846</th>\n",
       "      <td>0.178523</td>\n",
       "      <td>0</td>\n",
       "      <td>1.198870</td>\n",
       "      <td>-0.005157</td>\n",
       "      <td>-1.424327</td>\n",
       "      <td>0.758165</td>\n",
       "      <td>1</td>\n",
       "      <td>0.609282</td>\n",
       "      <td>0.171342</td>\n",
       "      <td>0.182131</td>\n",
       "      <td>49</td>\n",
       "    </tr>\n",
       "    <tr>\n",
       "      <th>5799</th>\n",
       "      <td>0.178523</td>\n",
       "      <td>0</td>\n",
       "      <td>-0.025508</td>\n",
       "      <td>1.974963</td>\n",
       "      <td>0.006558</td>\n",
       "      <td>-1.083325</td>\n",
       "      <td>0</td>\n",
       "      <td>1.248250</td>\n",
       "      <td>0.171342</td>\n",
       "      <td>0.146444</td>\n",
       "      <td>52</td>\n",
       "    </tr>\n",
       "    <tr>\n",
       "      <th>1765</th>\n",
       "      <td>0.168664</td>\n",
       "      <td>0</td>\n",
       "      <td>-0.025508</td>\n",
       "      <td>-0.005157</td>\n",
       "      <td>-1.424327</td>\n",
       "      <td>-1.104492</td>\n",
       "      <td>0</td>\n",
       "      <td>1.248250</td>\n",
       "      <td>0.176380</td>\n",
       "      <td>0.275194</td>\n",
       "      <td>58</td>\n",
       "    </tr>\n",
       "  </tbody>\n",
       "</table>\n",
       "<p>1200 rows × 11 columns</p>\n",
       "</div>"
      ],
      "text/plain": [
       "           Sex  PreviousDefault  NumberPets  PreviousAccounts  \\\n",
       "1782  0.168664                0   -0.025508         -0.005157   \n",
       "3917  0.168664                0   -1.249886         -0.995216   \n",
       "221   0.168664                0    1.198870          0.984903   \n",
       "2135  0.178523                0    1.198870         -0.005157   \n",
       "5224  0.168664                0    1.198870         -0.005157   \n",
       "...        ...              ...         ...               ...   \n",
       "2543  0.168664                0   -1.249886         -0.005157   \n",
       "1773  0.168664                0   -0.025508         -0.005157   \n",
       "2846  0.178523                0    1.198870         -0.005157   \n",
       "5799  0.178523                0   -0.025508          1.974963   \n",
       "1765  0.168664                0   -0.025508         -0.005157   \n",
       "\n",
       "      ResidenceDuration    Amount  Married  Duration      City   Purpose  age  \n",
       "1782           0.722001  0.417148        0  1.248250  0.171342  0.182131   51  \n",
       "3917           0.722001 -0.431866        0 -0.029685  0.189024  0.169691   58  \n",
       "221           -1.424327  1.294384        0 -0.029685  0.156250  0.182131   50  \n",
       "2135          -0.708884  0.029095        1  0.609282  0.161290  0.169691   58  \n",
       "5224          -0.708884 -1.525471        1 -0.029685  0.171342  0.182131   43  \n",
       "...                 ...       ...      ...       ...       ...       ...  ...  \n",
       "2543          -1.424327 -1.088029        0  0.609282  0.170635  0.146444   50  \n",
       "1773           0.006558  0.104354        0  1.248250  0.162741  0.146444   45  \n",
       "2846          -1.424327  0.758165        1  0.609282  0.171342  0.182131   49  \n",
       "5799           0.006558 -1.083325        0  1.248250  0.171342  0.146444   52  \n",
       "1765          -1.424327 -1.104492        0  1.248250  0.176380  0.275194   58  \n",
       "\n",
       "[1200 rows x 11 columns]"
      ]
     },
     "execution_count": 66,
     "metadata": {},
     "output_type": "execute_result"
    }
   ],
   "source": [
    "X_test_cp"
   ]
  },
  {
   "cell_type": "code",
   "execution_count": 67,
   "metadata": {},
   "outputs": [],
   "source": [
    "#Pre-Processing\n",
    "\n",
    "X_test_cp['age_binned'] = pd.qcut(X_test_cp.age, q=[0, .25, .50, .75, 1], duplicates='drop')\n",
    "X_test_cp['amount_binned'] = pd.qcut(X_test_cp.Amount, q=[0, .25, .50, .75, 1], duplicates='drop')\n",
    "\n",
    "le_age = LabelEncoder()\n",
    "le_age.fit(X_test_cp['age_binned'])\n",
    "X_test_cp['age'] = le_age.transform(X_test_cp['age_binned'])\n",
    "X_test_cp.drop(columns = 'age_binned', inplace = True)\n",
    "\n",
    "le_amount = LabelEncoder()\n",
    "le_amount.fit(X_test_cp['amount_binned'])\n",
    "X_test_cp['Amount'] = le_amount.transform(X_test_cp['amount_binned'])\n",
    "X_test_cp.drop(columns = 'amount_binned', inplace = True)\n",
    "\n",
    "X_test_fea = sel.transform(X_test_cp)"
   ]
  },
  {
   "cell_type": "code",
   "execution_count": 71,
   "metadata": {
    "id": "YV_35bEupbfs"
   },
   "outputs": [
    {
     "name": "stdout",
     "output_type": "stream",
     "text": [
      "              precision    recall  f1-score   support\n",
      "\n",
      "           0       0.90      0.96      0.93       991\n",
      "           1       0.74      0.52      0.61       209\n",
      "\n",
      "    accuracy                           0.88      1200\n",
      "   macro avg       0.82      0.74      0.77      1200\n",
      "weighted avg       0.88      0.88      0.88      1200\n",
      "\n"
     ]
    }
   ],
   "source": [
    "#Final Prediction\n",
    "\n",
    "y_predict = pipe_best.predict(X_test_fea)\n",
    "print(classification_report(y_test, y_predict))"
   ]
  },
  {
   "cell_type": "markdown",
   "metadata": {
    "id": "bPiErnUaTQSk"
   },
   "source": [
    "# Question 4: Uncle Steve's Wind Farm"
   ]
  },
  {
   "cell_type": "markdown",
   "metadata": {
    "id": "NzLLQCmKTk9E"
   },
   "source": [
    "## Instructions\n",
    "\n",
    "\n",
    "Uncle Steve has invested in wind. He's built a BIG wind farm with a total of  700 turbines. He's been running the farm for a couple of years now and things are going well. He sells the power generated by the farm to the Kingston government and makes a tidy profit. And, of course, he has been gathering data about the turbines' operations.\n",
    "\n",
    "One area of concern, however, is the cost of maintenece. While the turbines are fairly robust, it seems like one breaks/fails every couple of days. When a turbine fails, it usually costs around \\$20,000 to repair it. Yikes!\n",
    "\n",
    "Currently, Uncle Steve is not doing any preventative maintenance. He just waits until a turbine fails, and then he fixes it. But Uncle Steve has recently learned that if he services a turbine *before* it fails, it will only cost around $2,000. \n",
    "\n",
    "Obviously, there is a potential to save a lot of money here. But first, Uncle Steve would need to figure out *which* turbines are about to fail. Uncle Steve being Uncle Steve, he wants to use ML to build a predictive maintenance model. The model will alert Uncle Steve to potential turbine failures before they happen, giving Uncle Steve a chance to perform an inspection on the turbine and then fix the turbine before it fails. Uncle Steve plans to run the model every morning. For all the turbines that the model predicts will fail, Uncle Steve will order an inspection (which cost a flat \\$500, no matter if the turbine was in good health or not; the \\$500 would not be part of the $2,000 service cost). For the rest of the turbines, Uncle Steve will do nothing.\n",
    "\n",
    "Uncle Steve has used the last few year's worth of operation data to build and assess a model to predict which turbines will fail on any given day. (The data includes useful features like sensor readings, power output, weather, and many more, but those are not important for now.) In fact, he didn't stop there: he built and assessed two models. One model uses using deep learning (in this case, RNNs), and the other uses random forests.\n",
    "\n",
    "He's tuned the bejeebers out of each model and is comfortable that he has found the best-performing version of each. Both models seem really good: both have accuracy scores > 99%. The RNN has better recall, but Uncle Steve is convinced that the random forest model will be better for him since it has better precision. Just to be sure, he has hired you to double check his calculations. \n",
    "\n",
    "**Your task**\n",
    "\n",
    " Which model will save Uncle Steve more money? Justify.\n",
    "\n",
    "\n",
    "In addition to the details above, here is the assessment of each model:\n",
    "\n",
    "- Confusion matrix for the random forest:\n",
    "\n",
    "|         | Predicted Fail           | Predicted No Fail  |\n",
    "| ------------- |------------| -----:|\n",
    "| **Actual Fail**      | 201 | 55 |\n",
    "| **Actual No Fail**   | 50 | 255195 |\n",
    "\n",
    "- Confusion matrix for the RNN:\n",
    "\n",
    "|         | Predicted Fail           | Predicted No Fail  |\n",
    "| ------------- |------------| -----:|\n",
    "| **Actual Fail**      | 226 | 30 |\n",
    "| **Actual No Fail**   | 1200 | 254045 |\n",
    "\n",
    "\n",
    "**Marking**\n",
    "\n",
    "- *Quality*. Response is well-justified and convincing. \n",
    "- *Style*. Response uses proper grammar, spelling, and punctuation. Response is clear and professional. Response is complete, but not overly-verbose. Response follows length guidelines.\n",
    "\n",
    "\n",
    "\n",
    "**Tips**\n",
    "\n",
    "- Figure out how much Uncle Steve is currently (i.e., without any predictive maintinance models) paying in maintenance costs.\n",
    "- Use the information provided above to create a cost matrix.\n",
    "- Use the cost matrix and the confusion matrices to determine the costs of each model.\n",
    "- The cost of an inspection is the same, no matter if the turbine is in good condition or is about to fail.\n",
    "- If the inspection determines that a turbine is about to fail, then it will be fixed right then and there for the additional fee.\n",
    "- For simplicity, assume the inspections are perfect: i.e., that inspecting a turbine will definitely catch any problems that might exist, and won't accidentally flag an otherwise-healthy turbine.\n",
    "\n"
   ]
  },
  {
   "cell_type": "markdown",
   "metadata": {},
   "source": [
    "- Cost of maintenance without the predictive model:\n",
    "For a period of 1 year, with 1 turbine failing every 2 days:\n",
    "    - Number of Days = 365(Assuming non-leap year)\n",
    "    - Number of turbines failed = Number of Days/2\n",
    "    - Cost of repair of one turbine = 20,000\n",
    "    \n",
    "    ***Total cost for 1 year of maintenance = (365 / 2) \\* 20000 = $3,650,000**\n",
    "\n",
    "    \n",
    "\n",
    "- Cost Matrix\n",
    "\n",
    "|         | Predicted Fail           | Predicted No Fail  |\n",
    "| ------------- |------------| -----:|\n",
    "| **Actual Fail**      | 500+2000 | 20000 |\n",
    "| **Actual No Fail**   | 500 | - |\n",
    "\n",
    "- Cost Confusion matrix for the random forest:\n",
    "\n",
    "|         | Predicted Fail           | Predicted No Fail  |\n",
    "| ------------- |------------| -----:|\n",
    "| **Actual Fail**      | 502,500 | 1,100,000 |\n",
    "| **Actual No Fail**   | 25000 | - |\n",
    "\n",
    "- Cost Confusion matrix for the RNN:\n",
    "\n",
    "|         | Predicted Fail           | Predicted No Fail  |\n",
    "| ------------- |------------| -----:|\n",
    "| **Actual Fail**      | 565,000 | 600,000 |\n",
    "| **Actual No Fail**   | 600,000 | - |\n",
    "\n",
    "**Analysis**\n",
    "\n",
    "Random Forest - Recall: 0.785; Precision: 0.80\n",
    "Total cost of repairs - $1,627,500\n",
    "\n",
    "RNN - Recall: 0.88; Precision: 0.15\n",
    "Total cost of repairs - $1,765,000\n",
    "\n",
    "\n",
    "**Best Option**\n",
    "\n",
    "Random Forest - According to my analysis, using Random Forest algorithm to predict the failures would be a better option rather than the RNN algorithm.\n",
    "The following reasons support the conclusion:\n",
    "1. The Total cost difference of using RNN and RF: 1,765,000 - 1,627,500 = 137,500\n",
    "2. The precision (measure of quality) of both the algorithms play a key role in determining which one to pick. For Random forest, the precision is 0.80 which means 80\\% of the times the algorithm predicts that the turbines would fail and they actually fail. This\n",
    "<p>However for RNN, the precision is just about 0.15 and is dominated by the False positives i.e. the turbine would fail but it does not. </p>\n",
    "<p>This False Positive(FP) number for RNN costs Uncle Steve a heavy amount(600K) in the inspection charges in comparison to Random forest FP numbers which just cost about 25k. </p>\n",
    "3. The Recall (measure of quantity) of both the algorithms are similar (not too far off) however due to the False Negatives(FN) being \"costlier\", the total cost is impacted by the FN numbers too. \n",
    "\n",
    "**With the current values in the confusion matrix and looking at the precision of the algorithms, Random Forest is the algorithm that Uncle Steve needs to use for his farm.**\n"
   ]
  },
  {
   "cell_type": "code",
   "execution_count": null,
   "metadata": {},
   "outputs": [],
   "source": []
  }
 ],
 "metadata": {
  "colab": {
   "collapsed_sections": [],
   "name": "Copy of MMA/GMMA 2022 869 Individual Assignment.ipynb",
   "provenance": []
  },
  "kernelspec": {
   "display_name": "Python 3 (ipykernel)",
   "language": "python",
   "name": "python3"
  },
  "language_info": {
   "codemirror_mode": {
    "name": "ipython",
    "version": 3
   },
   "file_extension": ".py",
   "mimetype": "text/x-python",
   "name": "python",
   "nbconvert_exporter": "python",
   "pygments_lexer": "ipython3",
   "version": "3.9.13"
  }
 },
 "nbformat": 4,
 "nbformat_minor": 1
}
